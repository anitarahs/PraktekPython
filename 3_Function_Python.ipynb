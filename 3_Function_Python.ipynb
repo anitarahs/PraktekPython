{
  "nbformat": 4,
  "nbformat_minor": 0,
  "metadata": {
    "colab": {
      "provenance": [],
      "toc_visible": true
    },
    "kernelspec": {
      "name": "python3",
      "display_name": "Python 3"
    },
    "language_info": {
      "name": "python"
    }
  },
  "cells": [
    {
      "cell_type": "markdown",
      "source": [
        "# Function Python"
      ],
      "metadata": {
        "id": "W3tAzHuxgdcS"
      }
    },
    {
      "cell_type": "code",
      "source": [
        "def func1():\n",
        "  print(\"Hellow!\") #kode dalam function\n",
        "func1() #memanggil function"
      ],
      "metadata": {
        "colab": {
          "base_uri": "https://localhost:8080/"
        },
        "id": "HmSht38Mg1FB",
        "outputId": "9ef8fff8-4983-48e9-a2cc-74dfe09e36bd"
      },
      "execution_count": null,
      "outputs": [
        {
          "output_type": "stream",
          "name": "stdout",
          "text": [
            "Hellow!\n"
          ]
        }
      ]
    },
    {
      "cell_type": "code",
      "source": [
        "def _fungsiSaya():\n",
        "  print(\"Saya berguna untuk demonstrasi fungsi\")\n",
        "  print(1452567)\n",
        "  print(\"\\n\") #Enter atau newline\n",
        "  print(3.5655)\n",
        "  print(\"Hahaha itu saldo ATM apa GPA\")\n",
        "  \n",
        "_fungsiSaya() #Memanggil Function"
      ],
      "metadata": {
        "colab": {
          "base_uri": "https://localhost:8080/"
        },
        "id": "8t03ymbfhCXh",
        "outputId": "01207656-89dc-454e-8b98-b17d2bdfe0a9"
      },
      "execution_count": null,
      "outputs": [
        {
          "output_type": "stream",
          "name": "stdout",
          "text": [
            "Saya berguna untuk demonstrasi fungsi\n",
            "1452567\n",
            "\n",
            "\n",
            "3.5655\n",
            "Hahaha itu saldo ATM apa GPA\n"
          ]
        }
      ]
    },
    {
      "cell_type": "code",
      "source": [
        "#Function Mengembalikan Nilai\n",
        "def func_return_nilai():\n",
        "  a = 5\n",
        "  b = 6\n",
        "  return(a+b)\n",
        "func_return_nilai()"
      ],
      "metadata": {
        "colab": {
          "base_uri": "https://localhost:8080/"
        },
        "id": "xR5txYjzhfOh",
        "outputId": "692abb3b-a7ad-4f45-c90f-2b7f7a0d7ff5"
      },
      "execution_count": null,
      "outputs": [
        {
          "output_type": "execute_result",
          "data": {
            "text/plain": [
              "11"
            ]
          },
          "metadata": {},
          "execution_count": 3
        }
      ]
    },
    {
      "cell_type": "markdown",
      "source": [
        "# SCOPE"
      ],
      "metadata": {
        "id": "p09OB87HiPM3"
      }
    },
    {
      "cell_type": "code",
      "source": [
        "def localScp(): #Local Scope = Didalam function\n",
        "  var1 = 10\n",
        "  return(var1)    #mau print atau return sama aja\n",
        "  #print(var1)\n",
        "localScp()"
      ],
      "metadata": {
        "colab": {
          "base_uri": "https://localhost:8080/"
        },
        "id": "T9XcrTk3iSUY",
        "outputId": "8216d61a-2640-4137-abaa-f876be76017a"
      },
      "execution_count": null,
      "outputs": [
        {
          "output_type": "execute_result",
          "data": {
            "text/plain": [
              "10"
            ]
          },
          "metadata": {},
          "execution_count": 5
        }
      ]
    },
    {
      "cell_type": "markdown",
      "source": [
        "# Global Scope"
      ],
      "metadata": {
        "id": "MI42RFFFigYs"
      }
    },
    {
      "cell_type": "code",
      "source": [
        "var1 = 10\n",
        "def GlobalScp():\n",
        "  var2 = 20\n",
        "  c = var1 + var2\n",
        "  return c\n",
        "\n",
        "def test():   #function dalam function lain\n",
        "  b = GlobalScp() #b sebenarnya sama dgn c krena nilai c sama hasil dari GlobalScp yg sudah dihitung\n",
        "  a = b ** 2\n",
        "  return a\n",
        "\n",
        "test()"
      ],
      "metadata": {
        "colab": {
          "base_uri": "https://localhost:8080/"
        },
        "id": "PEuwmU0EijbI",
        "outputId": "2a6cabeb-0bec-4fa7-c26b-55c56498e896"
      },
      "execution_count": null,
      "outputs": [
        {
          "output_type": "execute_result",
          "data": {
            "text/plain": [
              "900"
            ]
          },
          "metadata": {},
          "execution_count": 6
        }
      ]
    },
    {
      "cell_type": "markdown",
      "source": [
        "# Global Keywoard"
      ],
      "metadata": {
        "id": "L9lDdAZbjXNk"
      }
    },
    {
      "cell_type": "code",
      "source": [
        "def GlobalKey():\n",
        "  global var1 # Deklarasi global\n",
        "  var1 = 10   # Assign nilai\n",
        "  print(\"ini dalam function\", var1)\n",
        "\n",
        "def func2():\n",
        "  c = var1 + 10\n",
        "  return c\n",
        "\n",
        "GlobalKey()\n",
        "print(\"ini diluar function\", var1)\n",
        "\n",
        "func2()"
      ],
      "metadata": {
        "colab": {
          "base_uri": "https://localhost:8080/"
        },
        "id": "WaLH25fDjaN4",
        "outputId": "34ce6200-d8b0-4822-a70a-03a7491fe3e8"
      },
      "execution_count": null,
      "outputs": [
        {
          "output_type": "stream",
          "name": "stdout",
          "text": [
            "ini dalam function 10\n",
            "ini diluar function 10\n"
          ]
        },
        {
          "output_type": "execute_result",
          "data": {
            "text/plain": [
              "20"
            ]
          },
          "metadata": {},
          "execution_count": 14
        }
      ]
    },
    {
      "cell_type": "markdown",
      "source": [
        "# Arguments"
      ],
      "metadata": {
        "id": "mfPvXHItnbSd"
      }
    },
    {
      "cell_type": "code",
      "source": [
        "def daftar_nama(fname): #f_name adalah Parameter\n",
        "  print(fname, \"Fisher\")\n",
        "\n",
        "daftar_nama(\"Taylor\") #Argument\n",
        "daftar_nama(\"Farah\")"
      ],
      "metadata": {
        "colab": {
          "base_uri": "https://localhost:8080/"
        },
        "id": "5sz2p-qBndUX",
        "outputId": "9df06e2f-a9dd-4c37-97c8-273bdfbdcd54"
      },
      "execution_count": null,
      "outputs": [
        {
          "output_type": "stream",
          "name": "stdout",
          "text": [
            "Taylor Fisher\n",
            "Farah Fisher\n"
          ]
        }
      ]
    },
    {
      "cell_type": "code",
      "source": [
        "def daftar_nama(fname,lname): #Parameter = Variabel, didalam tanda kurungnya function\n",
        "  print(fname, lname)\n",
        "\n",
        "daftar_nama(\"Taylor\",\"Fischer\") #Arguments = Nilai, didalam tanda kurung saat menanggil function\n",
        "daftar_nama(\"Farah\",\"Yulianti\")\n",
        "daftar_nama(\"Adithya\",\"Muzalian\")"
      ],
      "metadata": {
        "colab": {
          "base_uri": "https://localhost:8080/"
        },
        "id": "eMZq9VKjntUm",
        "outputId": "f1d43ecb-7006-4272-92e1-49b051af0b52"
      },
      "execution_count": null,
      "outputs": [
        {
          "output_type": "stream",
          "name": "stdout",
          "text": [
            "Taylor Fischer\n",
            "Farah Yulianti\n",
            "Adithya Muzalian\n"
          ]
        }
      ]
    },
    {
      "cell_type": "code",
      "source": [
        "def tambah(operand1,operand2):\n",
        "  hasil = operand1 + operand2\n",
        "  return hasil\n",
        "\n",
        "def kurang(operand1, operand2):\n",
        "  hasil = operand1 - operand2\n",
        "  return hasil\n",
        "\n",
        "print(tambah(20,2))\n",
        "print(kurang(20,2))"
      ],
      "metadata": {
        "colab": {
          "base_uri": "https://localhost:8080/"
        },
        "id": "xSKHe1DNoLsE",
        "outputId": "470d30ff-a2ae-46b4-8471-04aa6e9c42bd"
      },
      "execution_count": null,
      "outputs": [
        {
          "output_type": "stream",
          "name": "stdout",
          "text": [
            "22\n",
            "18\n"
          ]
        }
      ]
    },
    {
      "cell_type": "markdown",
      "source": [
        "# Arbitary Arguments (Args)"
      ],
      "metadata": {
        "id": "SR-LWTQVpuXf"
      }
    },
    {
      "cell_type": "code",
      "source": [
        "def dftr_pst(*nama):\n",
        "  print(\"Peserta kedua:\", nama[1])  #printnya ditulis satu2\n",
        "  print(\"Peserta ketiga:\", nama[2])\n",
        "  print(\"Peserta ketiga:\", nama[3])\n",
        "\n",
        "dftr_pst(\"Julian\",\"Hendri\",\"Farah\",\"Deviha\",\"Lily\")\n"
      ],
      "metadata": {
        "colab": {
          "base_uri": "https://localhost:8080/"
        },
        "id": "a_frHa47oFBB",
        "outputId": "099b000c-4f05-4491-9029-3181b6901844"
      },
      "execution_count": null,
      "outputs": [
        {
          "output_type": "stream",
          "name": "stdout",
          "text": [
            "Peserta kedua: Hendri\n",
            "Peserta ketiga: Farah\n",
            "Peserta ketiga: Deviha\n"
          ]
        }
      ]
    },
    {
      "cell_type": "code",
      "source": [
        "#menggunakan for loop agar lebih singkat dan diambil secara keseluruhan secara otomatis\n",
        "\n",
        "def dftr_pst(*nama):\n",
        "  for j, i in enumerate(nama):  #Enumerate = Menyimpan indeks dari list\n",
        "    print(\"Peserta ke-\", j, \":\", i) #nyimpen indeksi, i utk valuenya\n",
        "\n",
        "dftr_pst(\"Julian\",\"Hendri\",\"Farah\",\"Devina\",\"Liliy\")"
      ],
      "metadata": {
        "colab": {
          "base_uri": "https://localhost:8080/"
        },
        "id": "GCmDAMyCqTX7",
        "outputId": "9a8356be-4763-480a-e283-4c535d588344"
      },
      "execution_count": null,
      "outputs": [
        {
          "output_type": "stream",
          "name": "stdout",
          "text": [
            "Peserta ke- 0 : Julian\n",
            "Peserta ke- 1 : Hendri\n",
            "Peserta ke- 2 : Farah\n",
            "Peserta ke- 3 : Devina\n",
            "Peserta ke- 4 : Liliy\n"
          ]
        }
      ]
    },
    {
      "cell_type": "code",
      "source": [
        "#contoh tanpa enumerate\n",
        "def dftr_pst(*nama):\n",
        "  for i in (nama):  \n",
        "    print(\"Peserta\", i)\n",
        "\n",
        "dftr_pst(\"Julian\",\"Hendri\",\"Farah\",\"Devina\",\"Liliy\")"
      ],
      "metadata": {
        "colab": {
          "base_uri": "https://localhost:8080/"
        },
        "id": "Gu4JOwuIXrgJ",
        "outputId": "456533f0-7849-4762-d3c5-8f21c99533f5"
      },
      "execution_count": null,
      "outputs": [
        {
          "output_type": "stream",
          "name": "stdout",
          "text": [
            "Peserta Julian\n",
            "Peserta Hendri\n",
            "Peserta Farah\n",
            "Peserta Devina\n",
            "Peserta Liliy\n"
          ]
        }
      ]
    },
    {
      "cell_type": "markdown",
      "source": [
        "# Keyword Arguments"
      ],
      "metadata": {
        "id": "kXDjRqsOslEV"
      }
    },
    {
      "cell_type": "code",
      "source": [
        "def dftr_pst(nama, alamat, kelas):\n",
        "  print(\"Nama peserta:\", nama)\n",
        "  print(\"Alamat peserta:\", alamat)\n",
        "  print(\"Kelas peserta:\", kelas)\n",
        "\n",
        "dftr_pst(nama = \"Lily\", kelas = \"English\", alamat = \"Jakarta\")"
      ],
      "metadata": {
        "colab": {
          "base_uri": "https://localhost:8080/"
        },
        "id": "Ey7czaWMspTT",
        "outputId": "4c1ce3d5-4133-47da-85e7-275e25b7d7b0"
      },
      "execution_count": null,
      "outputs": [
        {
          "output_type": "stream",
          "name": "stdout",
          "text": [
            "Nama peserta: Lily\n",
            "Alamat peserta: Jakarta\n",
            "Kelas peserta: English\n"
          ]
        }
      ]
    },
    {
      "cell_type": "markdown",
      "source": [
        "# Arbitary Keywoard Arguments(Kwargs)"
      ],
      "metadata": {
        "id": "mcEb6C3sq8ey"
      }
    },
    {
      "cell_type": "code",
      "source": [
        "def dftr_pst(**data):\n",
        "  print(\"Nama peserta:\", data[\"nama\"])\n",
        "  print(\"Alamat peserta:\", data[\"alamat\"])\n",
        "  print(\"Kelas peserta:\", data[\"kelas\"])\n",
        "  print(\"Kecamatan peserta:\", data[\"kecamatan\"])\n",
        "  print(\"Penghasilan peserta:\", data[\"penghasilan\"])\n",
        "\n",
        "dftr_pst(nama=\"Lily\", kelas=\"English\",alamat=\"Jakarta\", kecamatan=\"Lebak bulus\", penghasilan=\"100000\")"
      ],
      "metadata": {
        "colab": {
          "base_uri": "https://localhost:8080/"
        },
        "id": "5trz_YTErDoR",
        "outputId": "694ecf96-7294-41dd-e46b-31cff9b024ad"
      },
      "execution_count": null,
      "outputs": [
        {
          "output_type": "stream",
          "name": "stdout",
          "text": [
            "Nama peserta: Lily\n",
            "Alamat peserta: Jakarta\n",
            "Kelas peserta: English\n",
            "Kecamatan peserta: Lebak bulus\n",
            "Penghasilan peserta: 100000\n"
          ]
        }
      ]
    },
    {
      "cell_type": "code",
      "source": [
        "def dftr_pst(**data):\n",
        "  print(\"Nama peserta:\", data[\"nama\"])\n",
        "  print(\"Alamat peserta:\", data[\"alamat\"])\n",
        "  print(\"Kelas peserta:\", data[\"kelas\"])\n",
        "\n",
        "dftr_pst(nama = \"Lily\", kelas = \"English\", alamat = \"Jakarta\")"
      ],
      "metadata": {
        "colab": {
          "base_uri": "https://localhost:8080/"
        },
        "id": "rdnQNP3RaGc4",
        "outputId": "252439d2-ea48-42d1-939d-1d4bc0c6e1d5"
      },
      "execution_count": null,
      "outputs": [
        {
          "output_type": "stream",
          "name": "stdout",
          "text": [
            "Nama peserta: Lily\n",
            "Alamat peserta: Jakarta\n",
            "Kelas peserta: English\n"
          ]
        }
      ]
    },
    {
      "cell_type": "code",
      "source": [
        "def dftr_pst(**data):\n",
        "  for i in (**data):  \n",
        "    \n",
        "  #print(\"Nama peserta:\", data[\"nama\"])\n",
        "  #print(\"Alamat peserta:\", data[\"alamat\"])\n",
        "  #print(\"Kelas peserta:\", data[\"kelas\"])\n",
        "\n",
        "dftr_pst(nama = \"Lily\", kelas = \"English\", alamat = \"Jakarta\")"
      ],
      "metadata": {
        "id": "lrRu8fmqnYFl"
      },
      "execution_count": null,
      "outputs": []
    },
    {
      "cell_type": "markdown",
      "source": [
        "# Default Parameter Value"
      ],
      "metadata": {
        "id": "J3yoC1wYvuRR"
      }
    },
    {
      "cell_type": "code",
      "source": [
        "def data_pst(nama=\"Lily\"):\n",
        "  print(\"Nama peserta:\", nama)\n",
        "\n",
        "data_pst()\n",
        "data_pst(\"Unggah\")"
      ],
      "metadata": {
        "colab": {
          "base_uri": "https://localhost:8080/"
        },
        "id": "LYwbBxG1vz6Y",
        "outputId": "f654a0eb-d652-4c98-c762-19840b6f2748"
      },
      "execution_count": null,
      "outputs": [
        {
          "output_type": "stream",
          "name": "stdout",
          "text": [
            "Nama peserta: Lily\n",
            "Nama peserta: Unggah\n"
          ]
        }
      ]
    },
    {
      "cell_type": "code",
      "source": [
        "def dftr_pst(nama=\"Chandra\",alamat=\"Denpasar\",kelas=\"Programming\"):\n",
        "  print(\"Nama peserta:\", nama)\n",
        "  print(\"Alamat peserta:\", alamat)\n",
        "  print(\"Kelas peserta:\", kelas, \"\\n\")\n",
        "\n",
        "dftr_pst()\n",
        "dftr_pst(\"Farah\",\"Bekasi\")\n",
        "dftr_pst(\"Rahmat\",\"Bandung\",\"Tutor\")"
      ],
      "metadata": {
        "colab": {
          "base_uri": "https://localhost:8080/"
        },
        "id": "E16UfoCqwJZA",
        "outputId": "82464919-56d9-4d56-8d84-0d8389b3ea37"
      },
      "execution_count": null,
      "outputs": [
        {
          "output_type": "stream",
          "name": "stdout",
          "text": [
            "Nama peserta: Chandra\n",
            "Alamat peserta: Denpasar\n",
            "Kelas peserta: Programming \n",
            "\n",
            "Nama peserta: Farah\n",
            "Alamat peserta: Bekasi\n",
            "Kelas peserta: Programming \n",
            "\n",
            "Nama peserta: Rahmat\n",
            "Alamat peserta: Bandung\n",
            "Kelas peserta: Tutor \n",
            "\n"
          ]
        }
      ]
    },
    {
      "cell_type": "markdown",
      "source": [
        "# List sebagai Argumen"
      ],
      "metadata": {
        "id": "s9KDVGDqxEAg"
      }
    },
    {
      "cell_type": "code",
      "source": [
        "def materi(mat):\n",
        "  for i in mat:\n",
        "    print(\"Daftar Materi:\", i)\n",
        "\n",
        "mat = [\"Programming Concept\",\"CSIP\",\"SSIP\",\"SOA\",\"Cloud Computing\"]\n",
        "materi(mat)"
      ],
      "metadata": {
        "colab": {
          "base_uri": "https://localhost:8080/"
        },
        "id": "28FsdSATxHgi",
        "outputId": "bf3e7302-7a0e-4f9b-b5d7-4bc0ebdcf0fb"
      },
      "execution_count": null,
      "outputs": [
        {
          "output_type": "stream",
          "name": "stdout",
          "text": [
            "Daftar Materi: Programming Concept\n",
            "Daftar Materi: CSIP\n",
            "Daftar Materi: SSIP\n",
            "Daftar Materi: SOA\n",
            "Daftar Materi: Cloud Computing\n"
          ]
        }
      ]
    },
    {
      "cell_type": "markdown",
      "source": [
        "# Return Values"
      ],
      "metadata": {
        "id": "NxOTCfdxxsPU"
      }
    },
    {
      "cell_type": "code",
      "source": [
        "def tambah(a,b):\n",
        "  c = a+b\n",
        "  return c\n",
        "\n",
        "a = 50\n",
        "b = 30\n",
        "hasil = tambah(a,b)\n",
        "print(hasil)\n",
        "\n",
        "a=80\n",
        "b=90\n",
        "\n",
        "print(tambah(a,b))"
      ],
      "metadata": {
        "colab": {
          "base_uri": "https://localhost:8080/"
        },
        "id": "Xmhe4-JPxu8B",
        "outputId": "dea787a7-9b37-48d3-e51f-2b76943761c6"
      },
      "execution_count": null,
      "outputs": [
        {
          "output_type": "stream",
          "name": "stdout",
          "text": [
            "80\n",
            "170\n"
          ]
        }
      ]
    },
    {
      "cell_type": "markdown",
      "source": [
        "# Lamda"
      ],
      "metadata": {
        "id": "edLyd4e9yUmW"
      }
    },
    {
      "cell_type": "code",
      "source": [
        "x = lambda a,b:a+b\n",
        "print(x(12,2))"
      ],
      "metadata": {
        "colab": {
          "base_uri": "https://localhost:8080/"
        },
        "id": "JZRwIvCNyf1t",
        "outputId": "92f98091-b941-48b4-c866-27679d2620e2"
      },
      "execution_count": null,
      "outputs": [
        {
          "output_type": "stream",
          "name": "stdout",
          "text": [
            "14\n"
          ]
        }
      ]
    },
    {
      "cell_type": "code",
      "source": [
        "x=lambda umur:\"bukan tua\" if umur>20 and umur < 50 else \"tua\"\n",
        "print(x(40))\n",
        "print(x(55))"
      ],
      "metadata": {
        "colab": {
          "base_uri": "https://localhost:8080/"
        },
        "id": "u1MGDZYYy2lM",
        "outputId": "465da6ed-b40a-4c48-d2e4-a9bef8eb59d8"
      },
      "execution_count": null,
      "outputs": [
        {
          "output_type": "stream",
          "name": "stdout",
          "text": [
            "bukan tua\n",
            "tua\n"
          ]
        }
      ]
    },
    {
      "cell_type": "markdown",
      "source": [
        "# Math Function"
      ],
      "metadata": {
        "id": "d9JLcnNFzHUZ"
      }
    },
    {
      "cell_type": "code",
      "source": [
        "import math\n",
        "x = math.ceil(28.7)\n",
        "y = math.floor(28.7)\n",
        "z = math.sqrt(81)\n",
        "o = math.pi \n",
        "p = math.pow(4,3)\n",
        "q = math.fsum([1,2,3,4,5])\n",
        "r = math.factorial(5)\n",
        "print(x,y,z,o,p,q,r)"
      ],
      "metadata": {
        "colab": {
          "base_uri": "https://localhost:8080/"
        },
        "id": "Qg8_Art0zK9e",
        "outputId": "61430f0c-aeb4-4fb4-e012-55bd1dd60f8b"
      },
      "execution_count": null,
      "outputs": [
        {
          "output_type": "stream",
          "name": "stdout",
          "text": [
            "29 28 9.0 3.141592653589793 64.0 15.0 120\n"
          ]
        }
      ]
    },
    {
      "cell_type": "markdown",
      "source": [
        "# OOP dan Class"
      ],
      "metadata": {
        "id": "6pQIdVv214vS"
      }
    },
    {
      "cell_type": "code",
      "source": [
        "class cal():\n",
        "    def __init__(self,a,b):\n",
        "        self.a = a\n",
        "        self.b = b\n",
        "    def add(self):\n",
        "        return self.a+self.b\n",
        "    def mul(self):\n",
        "        return self.a*self.b\n",
        "    def div(self):\n",
        "        return self.a//self.b\n",
        "    def sub(self):\n",
        "        return self.a-self.b\n",
        "        \n",
        "calc1 = cal(10,2)\n",
        "# tambah = calc1.add()\n",
        "# kurang = calc1.sub()\n",
        "kali = calc1.mul()\n",
        "bagi = calc1.div()\n",
        "\n",
        "print(\"Hasil Tambah:\", calc1.add())\n",
        "print(\"Hasil Kurang:\", calc1.sub())\n",
        "print(\"Hasil Kali:\", kali)\n",
        "print(\"Hasil Bagi:\", bagi)"
      ],
      "metadata": {
        "colab": {
          "base_uri": "https://localhost:8080/"
        },
        "id": "JhdTT23M1_tS",
        "outputId": "36e65df7-daf6-4940-f7cf-0bd98b7174a5"
      },
      "execution_count": null,
      "outputs": [
        {
          "output_type": "stream",
          "name": "stdout",
          "text": [
            "Hasil Tambah: 12\n",
            "Hasil Kurang: 8\n",
            "Hasil Kali: 20\n",
            "Hasil Bagi: 5\n"
          ]
        }
      ]
    },
    {
      "cell_type": "markdown",
      "source": [
        "# String Manipulation\n",
        "**Checkout more here: https://www.freecodecamp.org/news/python-string-manipulation-handbook/**"
      ],
      "metadata": {
        "id": "ptQK_Cg9fYlz"
      }
    },
    {
      "cell_type": "markdown",
      "source": [],
      "metadata": {
        "id": "DJSjBeVWtYuv"
      }
    },
    {
      "cell_type": "markdown",
      "source": [
        "# Coba-coba"
      ],
      "metadata": {
        "id": "mJRGHWgWoBNh"
      }
    },
    {
      "cell_type": "code",
      "source": [
        "def CombineString(string1, string2):\n",
        "  result= string1+ \"-\"+string2\n",
        "  print(result)\n",
        "\n",
        "CombineString(\"Rahmad\", \"Hidayat\")"
      ],
      "metadata": {
        "colab": {
          "base_uri": "https://localhost:8080/"
        },
        "id": "2utHyoDUoD2Y",
        "outputId": "0f883aac-9d4f-49d3-83aa-b0515b45240f"
      },
      "execution_count": null,
      "outputs": [
        {
          "output_type": "stream",
          "name": "stdout",
          "text": [
            "Rahmad-Hidayat\n"
          ]
        }
      ]
    },
    {
      "cell_type": "code",
      "source": [
        "def encodedata(*args):\n",
        "  if \"Rahmat\" in (args):\n",
        "    if \"Hdayat\" in (args):\n",
        "      print(\"Rahmat in\")\n",
        "  else:\n",
        "    print(\"Rahmat not in\")\n",
        "\n",
        "encodedata(\"XABIRU\",\"DUDUDU\",\"RAHMAT\")"
      ],
      "metadata": {
        "colab": {
          "base_uri": "https://localhost:8080/"
        },
        "id": "RwrNEdAuopnY",
        "outputId": "33af6cd2-a07a-47a9-d687-f88b1ddb92a2"
      },
      "execution_count": null,
      "outputs": [
        {
          "output_type": "stream",
          "name": "stdout",
          "text": [
            "Rahmat not in\n"
          ]
        }
      ]
    },
    {
      "cell_type": "code",
      "source": [
        "def encodedata(*args):\n",
        "  if i in (args):\n",
        "    if i in (args):\n",
        "      print(\"Rahmat in\")\n",
        "  else:\n",
        "    print(\"Rahmat not in\")\n",
        "\n",
        "encodedata(\"XABIRU\",\"DUDUDU\",\"RAHMAT\")"
      ],
      "metadata": {
        "colab": {
          "base_uri": "https://localhost:8080/",
          "height": 321
        },
        "id": "8sNhklcNpYSd",
        "outputId": "2e721225-496d-4a92-975f-491344b16818"
      },
      "execution_count": null,
      "outputs": [
        {
          "output_type": "error",
          "ename": "NameError",
          "evalue": "ignored",
          "traceback": [
            "\u001b[0;31m---------------------------------------------------------------------------\u001b[0m",
            "\u001b[0;31mNameError\u001b[0m                                 Traceback (most recent call last)",
            "\u001b[0;32m<ipython-input-43-86ff4347854e>\u001b[0m in \u001b[0;36m<module>\u001b[0;34m\u001b[0m\n\u001b[1;32m      6\u001b[0m     \u001b[0mprint\u001b[0m\u001b[0;34m(\u001b[0m\u001b[0;34m\"Rahmat not in\"\u001b[0m\u001b[0;34m)\u001b[0m\u001b[0;34m\u001b[0m\u001b[0;34m\u001b[0m\u001b[0m\n\u001b[1;32m      7\u001b[0m \u001b[0;34m\u001b[0m\u001b[0m\n\u001b[0;32m----> 8\u001b[0;31m \u001b[0mencodedata\u001b[0m\u001b[0;34m(\u001b[0m\u001b[0;34m\"XABIRU\"\u001b[0m\u001b[0;34m,\u001b[0m\u001b[0;34m\"DUDUDU\"\u001b[0m\u001b[0;34m,\u001b[0m\u001b[0;34m\"RAHMAT\"\u001b[0m\u001b[0;34m)\u001b[0m\u001b[0;34m\u001b[0m\u001b[0;34m\u001b[0m\u001b[0m\n\u001b[0m",
            "\u001b[0;32m<ipython-input-43-86ff4347854e>\u001b[0m in \u001b[0;36mencodedata\u001b[0;34m(*args)\u001b[0m\n\u001b[1;32m      1\u001b[0m \u001b[0;32mdef\u001b[0m \u001b[0mencodedata\u001b[0m\u001b[0;34m(\u001b[0m\u001b[0;34m*\u001b[0m\u001b[0margs\u001b[0m\u001b[0;34m)\u001b[0m\u001b[0;34m:\u001b[0m\u001b[0;34m\u001b[0m\u001b[0;34m\u001b[0m\u001b[0m\n\u001b[0;32m----> 2\u001b[0;31m   \u001b[0;32mif\u001b[0m \u001b[0mi\u001b[0m \u001b[0;32min\u001b[0m \u001b[0;34m(\u001b[0m\u001b[0margs\u001b[0m\u001b[0;34m)\u001b[0m\u001b[0;34m:\u001b[0m\u001b[0;34m\u001b[0m\u001b[0;34m\u001b[0m\u001b[0m\n\u001b[0m\u001b[1;32m      3\u001b[0m     \u001b[0;32mif\u001b[0m \u001b[0mi\u001b[0m \u001b[0;32min\u001b[0m \u001b[0;34m(\u001b[0m\u001b[0margs\u001b[0m\u001b[0;34m)\u001b[0m\u001b[0;34m:\u001b[0m\u001b[0;34m\u001b[0m\u001b[0;34m\u001b[0m\u001b[0m\n\u001b[1;32m      4\u001b[0m       \u001b[0mprint\u001b[0m\u001b[0;34m(\u001b[0m\u001b[0;34m\"Rahmat in\"\u001b[0m\u001b[0;34m)\u001b[0m\u001b[0;34m\u001b[0m\u001b[0;34m\u001b[0m\u001b[0m\n\u001b[1;32m      5\u001b[0m   \u001b[0;32melse\u001b[0m\u001b[0;34m:\u001b[0m\u001b[0;34m\u001b[0m\u001b[0;34m\u001b[0m\u001b[0m\n",
            "\u001b[0;31mNameError\u001b[0m: name 'i' is not defined"
          ]
        }
      ]
    },
    {
      "cell_type": "code",
      "source": [
        "class Tutor():\n",
        "  def __init__(self,nama):\n",
        "    self.nama= nama\n",
        "\n",
        "tutorDS = Tutor(\"Rahmat\")\n",
        "print(tutorDS.nama)"
      ],
      "metadata": {
        "colab": {
          "base_uri": "https://localhost:8080/"
        },
        "id": "jveyzCcNsf_B",
        "outputId": "40c8bfe3-ea5a-41db-93eb-86bd964c6150"
      },
      "execution_count": null,
      "outputs": [
        {
          "output_type": "stream",
          "name": "stdout",
          "text": [
            "Rahmat\n"
          ]
        }
      ]
    },
    {
      "cell_type": "code",
      "source": [
        "class Employee:\n",
        "  empCount = 0\n",
        "\n",
        "  def __init__(self,nama,salary):\n",
        "    self.nama = nama\n",
        "    self.salary = salary\n",
        "    Employee.empCount += 1\n",
        "  \n",
        "emp0 = Employee(\"Rahmat\",\"10\")\n",
        "emp1 = Employee(\"Hidayat\",\"9\")\n",
        "emp2 = Employee(\"dudud\",\"8\")\n",
        "emp3 = Employee(\"syalala\",\"7\")\n",
        "\n",
        "print(emp2.empCount)"
      ],
      "metadata": {
        "colab": {
          "base_uri": "https://localhost:8080/"
        },
        "id": "JnWNBBtdtWsr",
        "outputId": "a5ad1a10-ff0b-4e27-a47f-ab71c82669cf"
      },
      "execution_count": null,
      "outputs": [
        {
          "output_type": "stream",
          "name": "stdout",
          "text": [
            "4\n"
          ]
        }
      ]
    },
    {
      "cell_type": "code",
      "source": [
        "def processModul (argslist):\n",
        "  if type (argslist) == list:\n",
        "    outputlist = []\n",
        "    for arg in argslist:\n",
        "      outputlist.append(arg%3)\n",
        "  else:\n",
        "    print(\"Please check\")\n",
        "\n",
        "  return outputlist\n",
        "\n",
        "processModul([1,2,3,4,5])"
      ],
      "metadata": {
        "colab": {
          "base_uri": "https://localhost:8080/"
        },
        "id": "AivHdwmTu-sZ",
        "outputId": "5c7f6133-0ae5-4bc7-c400-9f803b5f5bce"
      },
      "execution_count": null,
      "outputs": [
        {
          "output_type": "execute_result",
          "data": {
            "text/plain": [
              "[1, 2, 0, 1, 2]"
            ]
          },
          "metadata": {},
          "execution_count": 51
        }
      ]
    }
  ]
}