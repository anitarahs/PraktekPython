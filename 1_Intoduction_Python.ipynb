{
  "nbformat": 4,
  "nbformat_minor": 0,
  "metadata": {
    "colab": {
      "provenance": [],
      "collapsed_sections": [
        "BABWJKc1H6EW",
        "1HO_TKZBJPVc",
        "nhCN6NkhLTx-",
        "ZM-lnPBPPMWs",
        "jSch608jRR88"
      ],
      "toc_visible": true
    },
    "kernelspec": {
      "name": "python3",
      "display_name": "Python 3"
    },
    "language_info": {
      "name": "python"
    }
  },
  "cells": [
    {
      "cell_type": "markdown",
      "source": [
        "# PRINT COMMAND\n",
        "**Basic Print Code**"
      ],
      "metadata": {
        "id": "cuWGKEU96nl9"
      }
    },
    {
      "cell_type": "code",
      "source": [
        "print(\"Hello Anita!\") #ini adalah string\n",
        "print(10) #ini adalah integer"
      ],
      "metadata": {
        "colab": {
          "base_uri": "https://localhost:8080/"
        },
        "id": "RYv1HPN27JNg",
        "outputId": "d554a5a7-5d8b-4be8-e1f6-b53989d4fdca"
      },
      "execution_count": null,
      "outputs": [
        {
          "output_type": "stream",
          "name": "stdout",
          "text": [
            "Hello Anita!\n",
            "10\n"
          ]
        }
      ]
    },
    {
      "cell_type": "markdown",
      "source": [
        "## Sequence"
      ],
      "metadata": {
        "id": "xf-0o5MzbNM6"
      }
    },
    {
      "cell_type": "code",
      "source": [
        "print(\"     //|\")\n",
        "print(\"    // |\")\n",
        "print(\"   //  |\")\n",
        "print(\"  //___|\")"
      ],
      "metadata": {
        "colab": {
          "base_uri": "https://localhost:8080/"
        },
        "id": "xcYFDNPAE2t5",
        "outputId": "c0ddf338-3b22-4314-8f26-89ab513b65fc"
      },
      "execution_count": null,
      "outputs": [
        {
          "output_type": "stream",
          "name": "stdout",
          "text": [
            "     //|\n",
            "    // |\n",
            "   //  |\n",
            "  //___|\n"
          ]
        }
      ]
    },
    {
      "cell_type": "markdown",
      "source": [
        "## Variables and Datatypes"
      ],
      "metadata": {
        "id": "jFy1Xois-h34"
      }
    },
    {
      "cell_type": "code",
      "source": [
        "# Boolean\n",
        "laki = False\n",
        "perempuan = True\n",
        "print(perempuan)\n",
        "\n",
        "# String\n",
        "namaku = \"Anita Rahmasari\"\n",
        "no_tlp = \"0895620485682\"\n",
        "print(no_tlp)\n",
        "\n",
        "# Integer\n",
        "umurku = 23\n",
        "tahunKelahiran = 2003\n",
        "tahunSekarang = 2022\n",
        "print(umurku)\n",
        "print(tahunSekarang-tahunKelahiran)\n",
        "\n",
        "#float\n",
        "GPA = 4.5473\n",
        "print(GPA)\n",
        "\n",
        "#Complex number\n",
        "angka = 2+2j\n",
        "print(angka)\n",
        "\n",
        "print(type(laki))\n",
        "print(type(namaku))\n",
        "print(type(umurku))\n",
        "print(type(GPA))\n",
        "print(type(angka))"
      ],
      "metadata": {
        "id": "3Ly51t89-sAF",
        "colab": {
          "base_uri": "https://localhost:8080/"
        },
        "outputId": "aaf40bf4-0b52-4d0d-aaee-a6144cf776ac"
      },
      "execution_count": null,
      "outputs": [
        {
          "output_type": "stream",
          "name": "stdout",
          "text": [
            "True\n",
            "0895620485682\n",
            "23\n",
            "19\n",
            "4.5473\n",
            "(2+2j)\n",
            "<class 'bool'>\n",
            "<class 'str'>\n",
            "<class 'int'>\n",
            "<class 'float'>\n",
            "<class 'complex'>\n"
          ]
        }
      ]
    },
    {
      "cell_type": "markdown",
      "source": [
        "## Jenis2 Format"
      ],
      "metadata": {
        "id": "vqfgJ-t_BMui"
      }
    },
    {
      "cell_type": "code",
      "source": [
        "namaku1 = \"Nabila Dududu\"\n",
        "umurku1 = 27"
      ],
      "metadata": {
        "id": "IOWoyTVFBSBm"
      },
      "execution_count": null,
      "outputs": []
    },
    {
      "cell_type": "code",
      "source": [
        "# Cara pertama (+)\n",
        "print(\"Halo, namaku \"+namaku1)\n",
        "print(\"Halo, umurku \"+str(umurku1))\n",
        "\n",
        "#Cara kedua (,)\n",
        "print(\"Umurku\",umurku1)"
      ],
      "metadata": {
        "colab": {
          "base_uri": "https://localhost:8080/"
        },
        "id": "67SqEv0IBcfM",
        "outputId": "d5a62d94-9ca3-4601-cdde-fcfc4eb1a873"
      },
      "execution_count": null,
      "outputs": [
        {
          "output_type": "stream",
          "name": "stdout",
          "text": [
            "Halo, namaku Nabila Dududu\n",
            "Halo, umurku 27\n",
            "Umurku 27\n"
          ]
        }
      ]
    },
    {
      "cell_type": "code",
      "source": [
        "a = \"Anita\"\n",
        "b = \"Rahmasari\"\n",
        "c = 22\n",
        "print(\"Saya \"+ a + \" \"+ b+ \" \"+ str(c)) #cara lama (python 2)\n",
        "print(\"Saya\",a,b,c) #(Python 3)\n",
        "print(a,b)\n",
        "#print(b)"
      ],
      "metadata": {
        "colab": {
          "base_uri": "https://localhost:8080/"
        },
        "id": "lXfeOGKZCPCV",
        "outputId": "31d8dbb9-cc3e-46fc-bd68-2be1f9da1044"
      },
      "execution_count": null,
      "outputs": [
        {
          "output_type": "stream",
          "name": "stdout",
          "text": [
            "Saya Anita Rahmasari 22\n",
            "Saya Anita Rahmasari 22\n",
            "Anita Rahmasari\n"
          ]
        }
      ]
    },
    {
      "cell_type": "code",
      "source": [
        "print(\"Hallo namaku\",namaku)\n",
        "print(\"umurku\",umurku)"
      ],
      "metadata": {
        "colab": {
          "base_uri": "https://localhost:8080/"
        },
        "id": "xZjr7y2l0ZGB",
        "outputId": "b3db027f-96d4-45f1-e5f1-9124b715817f"
      },
      "execution_count": null,
      "outputs": [
        {
          "output_type": "stream",
          "name": "stdout",
          "text": [
            "Hallo namaku Anita Rahmasari\n",
            "umurku 23\n"
          ]
        }
      ]
    },
    {
      "cell_type": "code",
      "source": [
        "# %-Formatting\n",
        "print(\"Halo, namaku %s.\\nUmurku %s.\\n%s umur %s\" % (namaku1, umurku1, namaku, umurku))\n",
        "# \\n artinya adalah enter\n",
        "# %s artinya buat nandain letak variabel tersebut. %s variabelnya dapat berbeda-beda sesuai yg dibutuhkan"
      ],
      "metadata": {
        "colab": {
          "base_uri": "https://localhost:8080/"
        },
        "id": "GdNt3YImx2ZE",
        "outputId": "7d530969-fbe3-4b5c-eb42-10157dc40d0b"
      },
      "execution_count": null,
      "outputs": [
        {
          "output_type": "stream",
          "name": "stdout",
          "text": [
            "Halo, namaku Nabila Dududu.\n",
            "Umurku 27.\n",
            "Anita Rahmasari umur 23\n"
          ]
        }
      ]
    },
    {
      "cell_type": "code",
      "source": [
        "# str.format()\n",
        "print(\"Halo, namaku {nama}.\\nUmurku {umur}.\\n{nama} umur {umur}\".format(nama = namaku, umur = umurku))\n",
        "print(\"Halo, namaku {nama}.\\nUmurku {umur}.\\n{nama} umur {umur}\".format(nama = namaku1, umur = umurku1))"
      ],
      "metadata": {
        "colab": {
          "base_uri": "https://localhost:8080/"
        },
        "id": "RZn8YY-H1vHU",
        "outputId": "15214cd3-22d3-444e-b91b-3d9558bc5632"
      },
      "execution_count": null,
      "outputs": [
        {
          "output_type": "stream",
          "name": "stdout",
          "text": [
            "Halo, namaku Anita Rahmasari.\n",
            "Umurku 23.\n",
            "Anita Rahmasari umur 23\n",
            "Halo, namaku Nabila Dududu.\n",
            "Umurku 27.\n",
            "Nabila Dududu umur 27\n"
          ]
        }
      ]
    },
    {
      "cell_type": "code",
      "source": [
        "# f-String\n",
        "print(f\"Halo, namaku {namaku1}.\\nUmurku {umurku1}.\\n{namaku1} umur {umurku1}\")\n",
        "print(f\"Halo, namaku {namaku}.\\nUmurku {umurku}.\\n{namaku} umur {tahunSekarang - tahunKelahiran}\")\n",
        "print(f\"{{{tahunSekarang - tahunKelahiran}}}\")\n",
        "print(f\"{{tahunSekarang - tahunKelahiran}}\")\n",
        "print(f\"{tahunSekarang - tahunKelahiran}\")"
      ],
      "metadata": {
        "colab": {
          "base_uri": "https://localhost:8080/"
        },
        "id": "xmnkk8qv28K8",
        "outputId": "ccff12ef-7e65-4544-d283-fafa5743e356"
      },
      "execution_count": null,
      "outputs": [
        {
          "output_type": "stream",
          "name": "stdout",
          "text": [
            "Halo, namaku Nabila Dududu.\n",
            "Umurku 27.\n",
            "Nabila Dududu umur 27\n",
            "Halo, namaku Anita Rahmasari.\n",
            "Umurku 23.\n",
            "Anita Rahmasari umur 19\n",
            "{19}\n",
            "{tahunSekarang - tahunKelahiran}\n",
            "19\n"
          ]
        }
      ]
    },
    {
      "cell_type": "markdown",
      "source": [
        "## Import Library"
      ],
      "metadata": {
        "id": "uZvhj3JaDqit"
      }
    },
    {
      "cell_type": "code",
      "source": [
        "# Menginstall Library Pandas\n",
        "!pip install pandas"
      ],
      "metadata": {
        "colab": {
          "base_uri": "https://localhost:8080/"
        },
        "id": "BioRuy19DvWw",
        "outputId": "4c5fb3a3-5ccd-4ee4-cbfe-462d829b0605"
      },
      "execution_count": null,
      "outputs": [
        {
          "output_type": "stream",
          "name": "stdout",
          "text": [
            "Looking in indexes: https://pypi.org/simple, https://us-python.pkg.dev/colab-wheels/public/simple/\n",
            "Requirement already satisfied: pandas in /usr/local/lib/python3.7/dist-packages (1.3.5)\n",
            "Requirement already satisfied: python-dateutil>=2.7.3 in /usr/local/lib/python3.7/dist-packages (from pandas) (2.8.2)\n",
            "Requirement already satisfied: pytz>=2017.3 in /usr/local/lib/python3.7/dist-packages (from pandas) (2022.4)\n",
            "Requirement already satisfied: numpy>=1.17.3 in /usr/local/lib/python3.7/dist-packages (from pandas) (1.21.6)\n",
            "Requirement already satisfied: six>=1.5 in /usr/local/lib/python3.7/dist-packages (from python-dateutil>=2.7.3->pandas) (1.15.0)\n"
          ]
        }
      ]
    },
    {
      "cell_type": "code",
      "source": [
        "import tensorflow as tf #library\n",
        "import numpy as np\n",
        "import pandas as pd\n",
        "from sklearn.neighbors import NearestNeighbors #library\n",
        "from sklearn.metrics import accuracy_score"
      ],
      "metadata": {
        "id": "FhqCNy_vD8xC"
      },
      "execution_count": null,
      "outputs": []
    },
    {
      "cell_type": "markdown",
      "source": [
        "## Arithmetic Operation"
      ],
      "metadata": {
        "id": "AbE4bYLmGVvm"
      }
    },
    {
      "cell_type": "code",
      "source": [
        "import math\n",
        "a = 13.0\n",
        "b = 3\n",
        "c = 81\n",
        "\n",
        "# print(type(a))\n",
        "print(a + b)\n",
        "print(a * b)\n",
        "print(a - b)\n",
        "print(a / b)\n",
        "print(a // b)\n",
        "print(a % b)\n",
        "print(a ** b) #pangkat\n",
        "print(pow(a,b)) #pangkat\n",
        "print(abs(a)) #absolute (negatif jadi positif)\n",
        "print(math.sqrt(c))\n",
        "\n",
        "print(max(3,4,5,6,10))\n",
        "print(min(3,4,5,6,10))"
      ],
      "metadata": {
        "colab": {
          "base_uri": "https://localhost:8080/"
        },
        "id": "ME6WlxMiGc0s",
        "outputId": "5ddb01f6-d6a5-43a7-ef49-1da0d360e4bf"
      },
      "execution_count": null,
      "outputs": [
        {
          "output_type": "stream",
          "name": "stdout",
          "text": [
            "16.0\n",
            "39.0\n",
            "10.0\n",
            "4.333333333333333\n",
            "4.0\n",
            "1.0\n",
            "2197.0\n",
            "2197.0\n",
            "13.0\n",
            "9.0\n",
            "10\n",
            "3\n"
          ]
        }
      ]
    },
    {
      "cell_type": "code",
      "source": [
        "import math\n",
        "a = 13\n",
        "b = 3\n",
        "print(a / b)\n",
        "print(a // b)"
      ],
      "metadata": {
        "colab": {
          "base_uri": "https://localhost:8080/"
        },
        "id": "BlrrYdi8fspH",
        "outputId": "a9048429-7407-4b1e-d681-2e96b4266f4d"
      },
      "execution_count": null,
      "outputs": [
        {
          "output_type": "stream",
          "name": "stdout",
          "text": [
            "4.333333333333333\n",
            "4\n"
          ]
        }
      ]
    },
    {
      "cell_type": "markdown",
      "source": [
        "## Logical Operator"
      ],
      "metadata": {
        "id": "BABWJKc1H6EW"
      }
    },
    {
      "cell_type": "code",
      "source": [
        "x = 5\n",
        "y =12\n",
        "if x>y:\n",
        "  print(\"x lebih besar dari y\")\n",
        "print(\"x lebih kecil dari y\")"
      ],
      "metadata": {
        "colab": {
          "base_uri": "https://localhost:8080/"
        },
        "id": "dMhfTbOUYZ3q",
        "outputId": "fda04973-f26b-40b1-ac15-a3244be6f4f9"
      },
      "execution_count": null,
      "outputs": [
        {
          "output_type": "stream",
          "name": "stdout",
          "text": [
            "x lebih kecil dari y\n"
          ]
        }
      ]
    },
    {
      "cell_type": "code",
      "source": [
        "x = 5\n",
        "y =12\n",
        "# AND = SEMUA HARUS BERNILAI TRUE UNTUK HASIL TRUE\n",
        "# OR = SALAH SATU BERNILAI TRUE MAKA TRUE\n",
        "# NOT = KEBALIKANNYA DARI HASIL OPERATOR AND / OR\n",
        "\n",
        "print(x>3 and y<10) \n",
        "print(x>3 or y<4) \n",
        "print(not(x>5 and y<12))"
      ],
      "metadata": {
        "colab": {
          "base_uri": "https://localhost:8080/"
        },
        "id": "kCN9mY3SH9q_",
        "outputId": "1b84f6a1-5d73-4d29-bed7-4fba9673bc59"
      },
      "execution_count": null,
      "outputs": [
        {
          "output_type": "stream",
          "name": "stdout",
          "text": [
            "False\n",
            "True\n",
            "True\n"
          ]
        }
      ]
    },
    {
      "cell_type": "markdown",
      "source": [
        "## Conditional"
      ],
      "metadata": {
        "id": "1HO_TKZBJPVc"
      }
    },
    {
      "cell_type": "code",
      "source": [
        "a = 600\n",
        "b = 630\n",
        "\n",
        "if b>a:\n",
        "  print(\"b lebih besar dari a\")\n",
        "else:\n",
        "  print(\"ini a lho yg lebih gede\")\n",
        "\n",
        "print(\"\\n\") #artinya enter\n",
        "\n",
        "if a>b:\n",
        "  print(\"b lebih besar dari a\")\n",
        "else:\n",
        "  print(\"ini a lho yg lebih gede\")"
      ],
      "metadata": {
        "colab": {
          "base_uri": "https://localhost:8080/"
        },
        "id": "uA4XmGd5JThb",
        "outputId": "b9b81bff-1edf-48dc-b366-5aca74a2f9bf"
      },
      "execution_count": null,
      "outputs": [
        {
          "output_type": "stream",
          "name": "stdout",
          "text": [
            "b lebih besar dari a\n",
            "\n",
            "\n",
            "ini a lho yg lebih gede\n"
          ]
        }
      ]
    },
    {
      "cell_type": "code",
      "source": [
        "a = 8 #1000, 8, 9, 90\n",
        "b = 33\n",
        "c = 190\n",
        "\n",
        "# = maka assign nilai\n",
        "# == maka compare nilai\n",
        "\n",
        "if (a>b or a>c) and a>=1000:\n",
        "  print(\"A adalah yg terbesar\")\n",
        "elif (a == 9):\n",
        "  print(\"A adalah 9\")\n",
        "elif (a>b or a>c) and a<= 10000:\n",
        "  print(\"Salah satu kondisi adalah benar\")\n",
        "else:\n",
        "  print(\"Semua salah\")"
      ],
      "metadata": {
        "colab": {
          "base_uri": "https://localhost:8080/"
        },
        "id": "btlcNb2MKgH5",
        "outputId": "36107883-1216-4b1d-8e30-2d8d7ae13078"
      },
      "execution_count": null,
      "outputs": [
        {
          "output_type": "stream",
          "name": "stdout",
          "text": [
            "Semua salah\n"
          ]
        }
      ]
    },
    {
      "cell_type": "code",
      "source": [
        "# if a > b and c > a and c < 1000: \n",
        "#   print(\"Kedua kondisi Benar\")\n",
        "#   s = 20\n",
        "# elif a > b and a > c:\n",
        "#   print(\"a itu terbesar\")\n",
        "#   s = 40\n",
        "# elif c > b and c > a and c > 1000:\n",
        "#   print(\"C itu terbesar\")\n",
        "#   s = 50\n",
        "# else:\n",
        "#   print(\"ada yg salah tuh\")\n",
        "#   s = 0"
      ],
      "metadata": {
        "id": "KdRojZlu6bIB"
      },
      "execution_count": null,
      "outputs": []
    },
    {
      "cell_type": "markdown",
      "source": [
        "## Nested IF"
      ],
      "metadata": {
        "id": "nhCN6NkhLTx-"
      }
    },
    {
      "cell_type": "code",
      "source": [
        "x =21\n",
        "\n",
        "if x > 10:\n",
        "  print(\"Diatas sepuluh\")\n",
        "  if x > 20:\n",
        "    print(\"Diatas 20 juga!!\")\n",
        "  else:\n",
        "    print(\"tapi tidak diatas 20\")\n",
        "else:\n",
        "  print(\"Nilai dibawah 10\")"
      ],
      "metadata": {
        "colab": {
          "base_uri": "https://localhost:8080/"
        },
        "id": "pRttf-V3LWV4",
        "outputId": "81557620-ec47-41b5-f653-5647fc186163"
      },
      "execution_count": null,
      "outputs": [
        {
          "output_type": "stream",
          "name": "stdout",
          "text": [
            "Diatas sepuluh\n",
            "Diatas 20 juga!!\n"
          ]
        }
      ]
    },
    {
      "cell_type": "code",
      "source": [
        "#contoh # indent\n",
        "a = 50\n",
        "b = 50\n",
        "\n",
        "if b >= a:\n",
        "  if b == a:\n",
        "    print(\"a sama dengan b\")\n",
        "  else:\n",
        "    print(\"b lebih besar dari a\")\n",
        "else:\n",
        "  print(\"b lebih kecil a\")"
      ],
      "metadata": {
        "colab": {
          "base_uri": "https://localhost:8080/"
        },
        "id": "ixNiGXL24oZV",
        "outputId": "fc336699-2783-49b4-be48-ade427e334a9"
      },
      "execution_count": null,
      "outputs": [
        {
          "output_type": "stream",
          "name": "stdout",
          "text": [
            "a sama dengan b\n"
          ]
        }
      ]
    },
    {
      "cell_type": "markdown",
      "source": [
        "# LIST"
      ],
      "metadata": {
        "id": "ZM-lnPBPPMWs"
      }
    },
    {
      "cell_type": "code",
      "source": [
        "nama =[\"Farah\",\"Agil\",\"Muggy\",\"Farah\"]\n",
        "Jabatan=[\"Tutor DS18\",\"Tutor DS16\",\"Tutor DS12\",\"Tutor DS20\"]\n",
        "\n",
        "#LIST bisa double dan dapat diubah, dimulai dari 0"
      ],
      "metadata": {
        "id": "t0M0XVO_PPdL"
      },
      "execution_count": null,
      "outputs": []
    },
    {
      "cell_type": "code",
      "source": [
        "#mengubah nama farah di indeks 3\n",
        "nama[3]=\"Aries\"\n",
        "print(nama)\n",
        "\n",
        "#mengubah nama jabatan di indeks 2\n",
        "Jabatan[2]=\"Tutor Python 1\"\n",
        "print(Jabatan[2])\n",
        "\n",
        "#mengambil seluruh data di jabatan\n",
        "print(Jabatan)"
      ],
      "metadata": {
        "colab": {
          "base_uri": "https://localhost:8080/"
        },
        "id": "fLnSstDeQOSW",
        "outputId": "8259af33-005f-45b2-d157-890cec1f853c"
      },
      "execution_count": null,
      "outputs": [
        {
          "output_type": "stream",
          "name": "stdout",
          "text": [
            "['Farah', 'Agil', 'Muggy', 'Aries']\n",
            "Tutor Python 1\n",
            "['Tutor DS18', 'Tutor DS16', 'Tutor Python 1', 'Tutor DS20']\n"
          ]
        }
      ]
    },
    {
      "cell_type": "markdown",
      "source": [
        "# Tuple"
      ],
      "metadata": {
        "id": "jSch608jRR88"
      }
    },
    {
      "cell_type": "code",
      "source": [
        "nama_tutor=(\"Farah\",\"Agli\",\"Muggy\",\"Farah\")\n",
        "Kota=(\"Chicago\",\"New York\",\"Tokyo\",\"Paris\")\n",
        "\n",
        "#Tuple adanya duplikat tapi tidak dapat diubah, dimulai dari 0"
      ],
      "metadata": {
        "id": "KwEWygRlRchb"
      },
      "execution_count": null,
      "outputs": []
    },
    {
      "cell_type": "code",
      "source": [
        "Kota[2]"
      ],
      "metadata": {
        "colab": {
          "base_uri": "https://localhost:8080/",
          "height": 35
        },
        "id": "wFSMdDxQSAJZ",
        "outputId": "e21abcbf-ccae-4c70-f09e-4374523c27ab"
      },
      "execution_count": null,
      "outputs": [
        {
          "output_type": "execute_result",
          "data": {
            "text/plain": [
              "'Tokyo'"
            ],
            "application/vnd.google.colaboratory.intrinsic+json": {
              "type": "string"
            }
          },
          "metadata": {},
          "execution_count": 75
        }
      ]
    },
    {
      "cell_type": "code",
      "source": [
        "#mengambil salah satu nama atau kota dalam data diatas\n",
        "print(Kota[2])\n",
        "print(nama_tutor[1])"
      ],
      "metadata": {
        "colab": {
          "base_uri": "https://localhost:8080/"
        },
        "id": "YdDD5G0R9fun",
        "outputId": "16ca8817-70a3-4f35-d3f3-28023f288c3b"
      },
      "execution_count": null,
      "outputs": [
        {
          "output_type": "stream",
          "name": "stdout",
          "text": [
            "Tokyo\n",
            "Agli\n"
          ]
        }
      ]
    },
    {
      "cell_type": "markdown",
      "source": [
        "# Dictionary"
      ],
      "metadata": {
        "id": "nJVa0XviS7ks"
      }
    },
    {
      "cell_type": "code",
      "source": [
        "#Dictionary dapat diubah namun tidak boleh duplikat, bentuknya Key:Value\n",
        "#ambil nama key utk mengambil value yg di inginkan\n",
        "car={\n",
        "    \"brand\":\"Ford\",\n",
        "     \"model\":\"Mustang\",\n",
        "     \"year\":1996,\n",
        "     \"color\":\"black\"\n",
        "}"
      ],
      "metadata": {
        "id": "y_OBNI2zTLjw"
      },
      "execution_count": null,
      "outputs": []
    },
    {
      "cell_type": "code",
      "source": [
        "#Mengambil beberapa item pada data diatas\n",
        "print(car[\"year\"])\n",
        "print(car[\"color\"])"
      ],
      "metadata": {
        "colab": {
          "base_uri": "https://localhost:8080/"
        },
        "id": "EHqo0KjFYhR-",
        "outputId": "ea85f678-addd-4c3b-8960-ec6634ae0154"
      },
      "execution_count": null,
      "outputs": [
        {
          "output_type": "stream",
          "name": "stdout",
          "text": [
            "1996\n",
            "black\n"
          ]
        }
      ]
    },
    {
      "cell_type": "code",
      "source": [
        "#mengubah nama model dgn mengambil nilai key nya\n",
        "car[\"model\"]=\"Sedan\"\n",
        "print(car[\"model\"])"
      ],
      "metadata": {
        "id": "-M6oBIHUYkVN",
        "colab": {
          "base_uri": "https://localhost:8080/"
        },
        "outputId": "16f369d0-f5bc-4195-d471-fcbc1d094711"
      },
      "execution_count": null,
      "outputs": [
        {
          "output_type": "stream",
          "name": "stdout",
          "text": [
            "Sedan\n"
          ]
        }
      ]
    },
    {
      "cell_type": "code",
      "source": [
        "car"
      ],
      "metadata": {
        "colab": {
          "base_uri": "https://localhost:8080/"
        },
        "id": "BExvoTPi-xP5",
        "outputId": "30215516-07d5-421f-8f61-4cbc36b40176"
      },
      "execution_count": null,
      "outputs": [
        {
          "output_type": "execute_result",
          "data": {
            "text/plain": [
              "{'brand': 'Ford', 'model': 'Sedan', 'year': 1996, 'color': 'black'}"
            ]
          },
          "metadata": {},
          "execution_count": 88
        }
      ]
    },
    {
      "cell_type": "markdown",
      "source": [
        "# Slicing Operator"
      ],
      "metadata": {
        "id": "K-OLXS0GA5YA"
      }
    },
    {
      "cell_type": "code",
      "source": [
        "x = [2,3,4,5,6,7,8,9]\n",
        "x[2]=10\n",
        "print(x[-2])\n",
        "print(x[2])\n",
        "print(x[1:6])\n",
        "print(x[:4])\n",
        "print(x[-3:])\n",
        "print(x)"
      ],
      "metadata": {
        "colab": {
          "base_uri": "https://localhost:8080/"
        },
        "id": "7CpQAnqUBQtk",
        "outputId": "bc934a33-5904-47b6-ccb0-dc07b6f80ef4"
      },
      "execution_count": null,
      "outputs": [
        {
          "output_type": "stream",
          "name": "stdout",
          "text": [
            "8\n",
            "10\n",
            "[3, 10, 5, 6, 7]\n",
            "[2, 3, 10, 5]\n",
            "[7, 8, 9]\n",
            "[2, 3, 10, 5, 6, 7, 8, 9]\n"
          ]
        }
      ]
    },
    {
      "cell_type": "code",
      "source": [
        "x[:6]"
      ],
      "metadata": {
        "colab": {
          "base_uri": "https://localhost:8080/"
        },
        "id": "4walBRyPDv-5",
        "outputId": "9d85537e-996c-4e3a-9aba-dfbc4e75e3c2"
      },
      "execution_count": null,
      "outputs": [
        {
          "output_type": "execute_result",
          "data": {
            "text/plain": [
              "[2, 3, 10, 5, 6, 7]"
            ]
          },
          "metadata": {},
          "execution_count": 136
        }
      ]
    },
    {
      "cell_type": "code",
      "source": [
        "x[-4:]"
      ],
      "metadata": {
        "colab": {
          "base_uri": "https://localhost:8080/"
        },
        "id": "eSQLGUEeEUYj",
        "outputId": "7eee5ec9-2407-45eb-c5f1-b8b80bcdc6e6"
      },
      "execution_count": null,
      "outputs": [
        {
          "output_type": "execute_result",
          "data": {
            "text/plain": [
              "[6, 7, 8, 9]"
            ]
          },
          "metadata": {},
          "execution_count": 138
        }
      ]
    },
    {
      "cell_type": "code",
      "source": [
        "x[1:7:2]"
      ],
      "metadata": {
        "colab": {
          "base_uri": "https://localhost:8080/"
        },
        "id": "SA-t0_3YF8Lp",
        "outputId": "ffcba6ff-bd79-4809-de4f-c8f1c0db1b2c"
      },
      "execution_count": null,
      "outputs": [
        {
          "output_type": "execute_result",
          "data": {
            "text/plain": [
              "[3, 5, 7]"
            ]
          },
          "metadata": {},
          "execution_count": 103
        }
      ]
    },
    {
      "cell_type": "code",
      "source": [
        "y = \"HELLO DUNIA!\"\n",
        "print(s[3])\n",
        "print(s[3:7])\n",
        "print(s[1:8:2])"
      ],
      "metadata": {
        "colab": {
          "base_uri": "https://localhost:8080/"
        },
        "id": "3fwsw5zBNjfP",
        "outputId": "2eeaf075-3ea7-4165-d349-e25b47860e8d"
      },
      "execution_count": null,
      "outputs": [
        {
          "output_type": "stream",
          "name": "stdout",
          "text": [
            "L\n",
            "LO D\n",
            "EL U\n"
          ]
        }
      ]
    },
    {
      "cell_type": "code",
      "source": [
        "my_list = [2021, 0.2021, \"python\"]\n",
        "my_list\n",
        "print(my_list[2])\n",
        "\n",
        "m = my_list[2]\n",
        "m[0]"
      ],
      "metadata": {
        "colab": {
          "base_uri": "https://localhost:8080/",
          "height": 53
        },
        "id": "zCfFhtRgPNEF",
        "outputId": "f1b12dfb-0830-4f6f-e8b8-bc1a16259bcf"
      },
      "execution_count": null,
      "outputs": [
        {
          "output_type": "stream",
          "name": "stdout",
          "text": [
            "python\n"
          ]
        },
        {
          "output_type": "execute_result",
          "data": {
            "text/plain": [
              "'p'"
            ],
            "application/vnd.google.colaboratory.intrinsic+json": {
              "type": "string"
            }
          },
          "metadata": {},
          "execution_count": 8
        }
      ]
    },
    {
      "cell_type": "code",
      "source": [
        "#index = [0,1,2,....,n] index selalu dimulai dari 0 sampai n\n",
        "data2021 = [100,90,95,85,80,20,70]\n",
        "\n",
        "print(data2021[1:4])\n",
        "print(data2021[:5])\n",
        "\n",
        "print(\"\\n\")\n",
        "\n",
        "print(data2021[:6:3])\n",
        "print(data2021[-3:]) #ambil 3 data dari belakang\n",
        "print(data2021[:-3]) #ambil 3 data dari awal\n",
        "print(data2021[:3])"
      ],
      "metadata": {
        "colab": {
          "base_uri": "https://localhost:8080/"
        },
        "id": "lppmOUPTTCMG",
        "outputId": "4490429c-df85-437c-dff4-0478d2b9acb5"
      },
      "execution_count": null,
      "outputs": [
        {
          "output_type": "stream",
          "name": "stdout",
          "text": [
            "[90, 95, 85]\n",
            "[100, 90, 95, 85, 80]\n",
            "\n",
            "\n",
            "[100, 85]\n",
            "[80, 20, 70]\n",
            "[100, 90, 95, 85]\n",
            "[100, 90, 95]\n"
          ]
        }
      ]
    },
    {
      "cell_type": "code",
      "source": [
        "data2021[2] = 90\n",
        "#data2021[:-3]=100 pake for untuk diubah\n",
        "\n",
        "print(data2021)"
      ],
      "metadata": {
        "colab": {
          "base_uri": "https://localhost:8080/"
        },
        "id": "_mTjBruNUbdk",
        "outputId": "a3417fb4-ef85-4454-94b3-eb373eb89a06"
      },
      "execution_count": null,
      "outputs": [
        {
          "output_type": "stream",
          "name": "stdout",
          "text": [
            "[100, 90, 90, 85, 80, 20, 70]\n"
          ]
        }
      ]
    },
    {
      "cell_type": "markdown",
      "source": [
        "## Latihan Slicing"
      ],
      "metadata": {
        "id": "EzwuGjcOV9jD"
      }
    },
    {
      "cell_type": "code",
      "source": [
        "lists = [11,12,13,14,15,16,17,18,19]\n",
        "len(lists)\n",
        "\n",
        "#data ke 1 dimulai dari indeks 0\n",
        "#indeks= data-1"
      ],
      "metadata": {
        "colab": {
          "base_uri": "https://localhost:8080/"
        },
        "id": "F1shUykoWCE4",
        "outputId": "64bb2fb4-9574-4777-adb3-57f1d2fc6bc4"
      },
      "execution_count": null,
      "outputs": [
        {
          "output_type": "execute_result",
          "data": {
            "text/plain": [
              "9"
            ]
          },
          "metadata": {},
          "execution_count": 11
        }
      ]
    },
    {
      "cell_type": "code",
      "source": [
        "#1. Ambil data ke 2-6 --> Indeks ke 1 - Indeks ke 5\n",
        "lists[1:6]"
      ],
      "metadata": {
        "colab": {
          "base_uri": "https://localhost:8080/"
        },
        "id": "ING0aQ_HXjfK",
        "outputId": "85275f59-e6da-4c45-f0d1-04916a53a1be"
      },
      "execution_count": null,
      "outputs": [
        {
          "output_type": "execute_result",
          "data": {
            "text/plain": [
              "[12, 13, 14, 15, 16]"
            ]
          },
          "metadata": {},
          "execution_count": 12
        }
      ]
    },
    {
      "cell_type": "code",
      "source": [
        "#2. Ambil data 1,3,5,7,9\n",
        "print(lists[0::2])\n",
        "print(lists[0:9:2])"
      ],
      "metadata": {
        "colab": {
          "base_uri": "https://localhost:8080/"
        },
        "id": "FyXmbBn7XvKI",
        "outputId": "e89a9121-0730-43d9-978e-a34737e3aa40"
      },
      "execution_count": null,
      "outputs": [
        {
          "output_type": "stream",
          "name": "stdout",
          "text": [
            "[11, 13, 15, 17, 19]\n",
            "[11, 13, 15, 17, 19]\n"
          ]
        }
      ]
    },
    {
      "cell_type": "code",
      "source": [
        "#.3 Ambil data ke 2,5,8\n",
        "print(lists[1:8:3])\n",
        "print(lists[1::3])"
      ],
      "metadata": {
        "colab": {
          "base_uri": "https://localhost:8080/"
        },
        "id": "XpeyCNKRWs0G",
        "outputId": "76fa9eb2-8f7e-4bce-b79f-cbd460fd94c3"
      },
      "execution_count": null,
      "outputs": [
        {
          "output_type": "stream",
          "name": "stdout",
          "text": [
            "[12, 15, 18]\n",
            "[12, 15, 18]\n"
          ]
        }
      ]
    },
    {
      "cell_type": "code",
      "source": [
        "#.4 Ambil data ke-4 sampai data ke-9\n",
        "print(lists[3:9])\n",
        "print(lists[-6:])\n",
        "print(lists[3:])"
      ],
      "metadata": {
        "colab": {
          "base_uri": "https://localhost:8080/"
        },
        "id": "sxtMYFWIZbHU",
        "outputId": "dc970e67-37ed-4e19-aac2-5d6f31ab252d"
      },
      "execution_count": null,
      "outputs": [
        {
          "output_type": "stream",
          "name": "stdout",
          "text": [
            "[14, 15, 16, 17, 18, 19]\n",
            "[14, 15, 16, 17, 18, 19]\n",
            "[14, 15, 16, 17, 18, 19]\n"
          ]
        }
      ]
    },
    {
      "cell_type": "markdown",
      "source": [
        "# Contoh soal"
      ],
      "metadata": {
        "id": "TYNXovnil8iz"
      }
    },
    {
      "cell_type": "code",
      "source": [
        "fruits = ['apel', 'pisang', 'jeruk',2,3,4,5]\n",
        "\n",
        "for fruit in fruits:\n",
        "  if(isinstance(fruit, int)):\n",
        "    print(\"Saya suka angka\", fruit)\n",
        "  else:\n",
        "    print(\"Saya suka makan\", fruit)\n"
      ],
      "metadata": {
        "colab": {
          "base_uri": "https://localhost:8080/"
        },
        "id": "VXP_mDSzl_HA",
        "outputId": "b097df9c-4b03-49f8-818f-00ba3fcd0d90"
      },
      "execution_count": null,
      "outputs": [
        {
          "output_type": "stream",
          "name": "stdout",
          "text": [
            "Saya suka makan apel\n",
            "Saya suka makan pisang\n",
            "Saya suka makan jeruk\n",
            "Saya suka angka 2\n",
            "Saya suka angka 3\n",
            "Saya suka angka 4\n",
            "Saya suka angka 5\n"
          ]
        }
      ]
    },
    {
      "cell_type": "code",
      "source": [
        "fruits = {'apel': 'apple', \n",
        "          'jeruk': 'orange', \n",
        "          'anggur': 'grape',\n",
        "          \"Satu\":1,\n",
        "          \"Dua\":2,\n",
        "          \"Tiga\":3}\n",
        "\n",
        "# Dengan loop for, cetak '___ adalah ___ dalam bahasa Inggris'\n",
        "for fruit_key in fruits:\n",
        "  if(isinstance(fruits[fruit_key], str)):\n",
        "    print(fruit_key+\" adalah \" + fruits[fruit_key]+ \" dalam bahasa Inggris\")\n",
        "  else:\n",
        "    print(fruit_key, \"adalah\", fruits[fruit_key], \"dalam notasi angka\")\n"
      ],
      "metadata": {
        "colab": {
          "base_uri": "https://localhost:8080/"
        },
        "id": "gVII_iYJmktc",
        "outputId": "ceef7536-b2dd-4001-fc8f-7009d06d40ee"
      },
      "execution_count": null,
      "outputs": [
        {
          "output_type": "stream",
          "name": "stdout",
          "text": [
            "apel adalah apple dalam bahasa Inggris\n",
            "jeruk adalah orange dalam bahasa Inggris\n",
            "anggur adalah grape dalam bahasa Inggris\n",
            "Satu adalah 1 dalam notasi angka\n",
            "Dua adalah 2 dalam notasi angka\n",
            "Tiga adalah 3 dalam notasi angka\n"
          ]
        }
      ]
    }
  ]
}