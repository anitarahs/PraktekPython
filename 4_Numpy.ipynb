{
  "nbformat": 4,
  "nbformat_minor": 0,
  "metadata": {
    "colab": {
      "provenance": [],
      "toc_visible": true
    },
    "kernelspec": {
      "name": "python3",
      "display_name": "Python 3"
    },
    "language_info": {
      "name": "python"
    }
  },
  "cells": [
    {
      "cell_type": "markdown",
      "source": [
        "# **Introduction to NumPy**"
      ],
      "metadata": {
        "id": "9CIIlmjRIfc4"
      }
    },
    {
      "cell_type": "code",
      "source": [
        "import numpy as np"
      ],
      "metadata": {
        "id": "uDu1Z_07IgwA"
      },
      "execution_count": null,
      "outputs": []
    },
    {
      "cell_type": "code",
      "source": [
        "#Declare Array\n",
        "a = np.array([[1,2,3],[4,5,6],[7,8,9]]) #matriks\n",
        "b = np.array([[[1,2],[3,4]],[[5,6],[7,8]],[[9,10],[11,12]]]) #tensor\n",
        "c = np.array([1,2])\n",
        "print(\"Matriks:\")\n",
        "print(a)\n",
        "print(\"\\n\")\n",
        "print(\"Tensor:\")\n",
        "print(b)\n",
        "print(c)"
      ],
      "metadata": {
        "colab": {
          "base_uri": "https://localhost:8080/"
        },
        "id": "XMxE3lSCIkdA",
        "outputId": "75c99d1b-b8b8-455a-f67a-fcda0341424c"
      },
      "execution_count": null,
      "outputs": [
        {
          "output_type": "stream",
          "name": "stdout",
          "text": [
            "Matriks:\n",
            "[[1 2 3]\n",
            " [4 5 6]\n",
            " [7 8 9]]\n",
            "\n",
            "\n",
            "Tensor:\n",
            "[[[ 1  2]\n",
            "  [ 3  4]]\n",
            "\n",
            " [[ 5  6]\n",
            "  [ 7  8]]\n",
            "\n",
            " [[ 9 10]\n",
            "  [11 12]]]\n",
            "[1 2]\n"
          ]
        }
      ]
    },
    {
      "cell_type": "code",
      "source": [
        "#ini untuk mencari tahu bentuk dari sebuah array/matriks/tensor\n",
        "#mencari ordo berapa kali berapa dari sebuah matrisk atau tensor\n",
        "c = np.shape(a) #ordo 3x3\n",
        "d = np.shape(b) #ordo 3,2,2\n",
        "print(c)\n",
        "print(d)"
      ],
      "metadata": {
        "colab": {
          "base_uri": "https://localhost:8080/"
        },
        "id": "hK_Pyp7gKhB2",
        "outputId": "986c04d2-5ee1-4913-aad9-6d0159982a94"
      },
      "execution_count": null,
      "outputs": [
        {
          "output_type": "stream",
          "name": "stdout",
          "text": [
            "(3, 3)\n",
            "(3, 2, 2)\n"
          ]
        }
      ]
    },
    {
      "cell_type": "code",
      "source": [
        "#cara ke2 untuk mencari sebuah array dari sebuah matriks atau tensor\n",
        "a.shape"
      ],
      "metadata": {
        "colab": {
          "base_uri": "https://localhost:8080/"
        },
        "id": "ggmwggDnK2dm",
        "outputId": "f352a187-0f15-4abb-9cbc-44bf4a0753ad"
      },
      "execution_count": null,
      "outputs": [
        {
          "output_type": "execute_result",
          "data": {
            "text/plain": [
              "(3, 3)"
            ]
          },
          "metadata": {},
          "execution_count": 5
        }
      ]
    },
    {
      "cell_type": "code",
      "source": [
        "#untuk mengambil elemen yang spesifik pada matriks(r,c)\n",
        "print(a[0,1])\n",
        "print(a[1,1])\n",
        "print(a[1,2])"
      ],
      "metadata": {
        "colab": {
          "base_uri": "https://localhost:8080/"
        },
        "id": "ORcoD11rK4Fr",
        "outputId": "1a30c527-b5d5-4a4d-908b-5b05eed51816"
      },
      "execution_count": null,
      "outputs": [
        {
          "output_type": "stream",
          "name": "stdout",
          "text": [
            "2\n",
            "5\n",
            "6\n"
          ]
        }
      ]
    },
    {
      "cell_type": "code",
      "source": [
        "#untuk mengambil elemen yang spesifik pada tensor(c,r)\n",
        "print(b[1,1])\n",
        "print(b[0,1])\n",
        "print(b[2,1])\n",
        "print(b[2,0])\n",
        "print(b[2,0,0]) #indeks ke 0 pada kolom 2 row 0\n"
      ],
      "metadata": {
        "colab": {
          "base_uri": "https://localhost:8080/"
        },
        "id": "TpULUv4Rrfko",
        "outputId": "a57b1164-37e6-48e2-825d-38a50c0f7c70"
      },
      "execution_count": null,
      "outputs": [
        {
          "output_type": "stream",
          "name": "stdout",
          "text": [
            "[7 8]\n",
            "[3 4]\n",
            "[11 12]\n",
            "[ 9 10]\n",
            "9\n"
          ]
        }
      ]
    },
    {
      "cell_type": "code",
      "source": [
        "#Untuk Mengambil row pada matriks (r, :)\n",
        "print(a[0,:])\n",
        "print(a[1,:])\n",
        "print(\"\\n\")\n",
        "#untuk mengambil kolom pada matriks(:, c)\n",
        "print(a[:,1])\n",
        "print(a[:,2])"
      ],
      "metadata": {
        "colab": {
          "base_uri": "https://localhost:8080/"
        },
        "id": "IXzSKR3TK_G1",
        "outputId": "6a9bbf60-fc53-4509-c3a3-6b98e54cafd5"
      },
      "execution_count": null,
      "outputs": [
        {
          "output_type": "stream",
          "name": "stdout",
          "text": [
            "[1 2 3]\n",
            "[4 5 6]\n",
            "\n",
            "\n",
            "[2 5 8]\n",
            "[3 6 9]\n"
          ]
        }
      ]
    },
    {
      "cell_type": "code",
      "source": [
        "#Untuk Mengambil row pada tensor (c, :)\n",
        "print(b[0,:])\n",
        "print(b[1,:])\n",
        "print(\"\\n\")\n",
        "#untuk mengambil kolom pada tensor(:, r)\n",
        "print(b[:,0])\n",
        "print(b[:,1])"
      ],
      "metadata": {
        "colab": {
          "base_uri": "https://localhost:8080/"
        },
        "id": "M5wCadAl1NC-",
        "outputId": "715813bf-852b-4289-da9d-68253317dddc"
      },
      "execution_count": null,
      "outputs": [
        {
          "output_type": "stream",
          "name": "stdout",
          "text": [
            "[[1 2]\n",
            " [3 4]]\n",
            "[[5 6]\n",
            " [7 8]]\n",
            "\n",
            "\n",
            "[[ 1  2]\n",
            " [ 5  6]\n",
            " [ 9 10]]\n",
            "[[ 3  4]\n",
            " [ 7  8]\n",
            " [11 12]]\n"
          ]
        }
      ]
    },
    {
      "cell_type": "code",
      "source": [
        "#Cara mengganti Value di 2-D Array\n",
        "a[1,1] = 10\n",
        "a[1,2] = 12\n",
        "print(a)"
      ],
      "metadata": {
        "colab": {
          "base_uri": "https://localhost:8080/"
        },
        "id": "JwtE2S31LTar",
        "outputId": "279d64fb-265b-4935-d15d-52f1ae44b13d"
      },
      "execution_count": null,
      "outputs": [
        {
          "output_type": "stream",
          "name": "stdout",
          "text": [
            "[[ 1  2  3]\n",
            " [ 4 10 12]\n",
            " [ 7  8  9]]\n"
          ]
        }
      ]
    },
    {
      "cell_type": "code",
      "source": [
        "#Cara mengganti Value di tensor\n",
        "b[1,1] = [13,14]\n",
        "print(b)"
      ],
      "metadata": {
        "colab": {
          "base_uri": "https://localhost:8080/"
        },
        "id": "eOtLfRKE23ga",
        "outputId": "50d0c4ab-9fcb-473d-d774-b4fe62051748"
      },
      "execution_count": null,
      "outputs": [
        {
          "output_type": "stream",
          "name": "stdout",
          "text": [
            "[[[ 1  2]\n",
            "  [ 3  4]]\n",
            "\n",
            " [[ 5  6]\n",
            "  [13 14]]\n",
            "\n",
            " [[ 9 10]\n",
            "  [11 12]]]\n"
          ]
        }
      ]
    },
    {
      "cell_type": "markdown",
      "source": [
        "# NumPy Array"
      ],
      "metadata": {
        "id": "hrj14MNXOhMT"
      }
    },
    {
      "cell_type": "markdown",
      "source": [
        "## *1.NumPy Array*"
      ],
      "metadata": {
        "id": "Zva9G9ePO8Ds"
      }
    },
    {
      "cell_type": "code",
      "source": [
        "#Function untuk mendefinisikan nilai dalam array\n",
        "#Single Dimensional Array\n",
        "print(np.array([1,2,3,4,5,6,7,8])) #Vector\n",
        "print('\\n')\n",
        "\n",
        "#Two-Dimensional Array\n",
        "print(np.array([[1,2],[3,4],[5,6],[7,8]])) #Matriks\n",
        "print('\\n')\n",
        "\n",
        "#Three-Dimensional Array (Tensor)\n",
        "arred = np.array([[[1,2],[3,4]],[[5,6],[7,8]],[[9,10],[11,12]]]) #Tensor\n",
        "print(arred)\n",
        "print(\"\\n\")\n",
        "print(arred[1,1])\n",
        "print(arred[1,1,0])\n",
        "print(\"\\n\")\n",
        "print(arred[2,0])\n",
        "print(arred[2,1,1])\n",
        "print(\"\\n\")\n",
        "print(arred.shape)"
      ],
      "metadata": {
        "colab": {
          "base_uri": "https://localhost:8080/"
        },
        "id": "xJ9bP15ZMmW2",
        "outputId": "935271cc-f4fd-4f1c-8dc7-f5536b8691ad"
      },
      "execution_count": null,
      "outputs": [
        {
          "output_type": "stream",
          "name": "stdout",
          "text": [
            "[1 2 3 4 5 6 7 8]\n",
            "\n",
            "\n",
            "[[1 2]\n",
            " [3 4]\n",
            " [5 6]\n",
            " [7 8]]\n",
            "\n",
            "\n",
            "[[[ 1  2]\n",
            "  [ 3  4]]\n",
            "\n",
            " [[ 5  6]\n",
            "  [ 7  8]]\n",
            "\n",
            " [[ 9 10]\n",
            "  [11 12]]]\n",
            "\n",
            "\n",
            "[7 8]\n",
            "7\n",
            "\n",
            "\n",
            "[ 9 10]\n",
            "12\n",
            "\n",
            "\n",
            "(3, 2, 2)\n"
          ]
        }
      ]
    },
    {
      "cell_type": "code",
      "source": [
        "t = np.array([[[1,2],[3,4]],[[5,6],[7,8]],[[9,10],[11,12]]]) #Tensor\n",
        "#mengubah tensor menjadi matriks dan vektor\n",
        "m= np.array([[1,2],[3,4],[5,6],[7,8],[9,10],[11,12]])\n",
        "print(m)\n",
        "v= np.array([1,2,3,4,5,6,7,8,9,10,11,12])\n",
        "print(v)"
      ],
      "metadata": {
        "colab": {
          "base_uri": "https://localhost:8080/"
        },
        "id": "2u9dos3H-cjC",
        "outputId": "be753607-beae-42c6-a587-a6ef82a80209"
      },
      "execution_count": null,
      "outputs": [
        {
          "output_type": "stream",
          "name": "stdout",
          "text": [
            "[[ 1  2]\n",
            " [ 3  4]\n",
            " [ 5  6]\n",
            " [ 7  8]\n",
            " [ 9 10]\n",
            " [11 12]]\n",
            "[ 1  2  3  4  5  6  7  8  9 10 11 12]\n"
          ]
        }
      ]
    },
    {
      "cell_type": "markdown",
      "source": [
        "## *2.NumPy Arange*"
      ],
      "metadata": {
        "id": "d6Sst0DzOykZ"
      }
    },
    {
      "cell_type": "code",
      "source": [
        "#Function untuk mendefinisikan nilai-nilai yang berjarak sama dalam interval yang ditentukan dalam array\n",
        "print(np.arange(8)) #Hanya Stop\n",
        "print('\\n')\n",
        "print(np.arange(1,8)) #Start dan Stop\n",
        "print('\\n')\n",
        "print(np.arange(1,18,3)) #Start, Stop, Step"
      ],
      "metadata": {
        "colab": {
          "base_uri": "https://localhost:8080/"
        },
        "id": "0Nbu_kR7NZkr",
        "outputId": "4da028af-9d7d-4a13-8235-6088c358b176"
      },
      "execution_count": null,
      "outputs": [
        {
          "output_type": "stream",
          "name": "stdout",
          "text": [
            "[0 1 2 3 4 5 6 7]\n",
            "\n",
            "\n",
            "[1 2 3 4 5 6 7]\n",
            "\n",
            "\n",
            "[ 1  4  7 10 13 16]\n"
          ]
        }
      ]
    },
    {
      "cell_type": "markdown",
      "source": [
        "## *3.NumPy zeros*"
      ],
      "metadata": {
        "id": "N8igdkSVPEPb"
      }
    },
    {
      "cell_type": "code",
      "source": [
        "#Function untuk menampilkan array baru degan ukuran tertentu dan berisi 0\n",
        "#Default dtype adalah float\n",
        "print(np.zeros(5))\n",
        "print('\\n')\n",
        "print(np.zeros((5,5),dtype=int))\n",
        "print('\\n')\n",
        "print(np.zeros((5,3),dtype=int))"
      ],
      "metadata": {
        "colab": {
          "base_uri": "https://localhost:8080/"
        },
        "id": "NtGBiAlcNqQe",
        "outputId": "a936295c-3778-4afc-98fb-a4ad767c56cb"
      },
      "execution_count": null,
      "outputs": [
        {
          "output_type": "stream",
          "name": "stdout",
          "text": [
            "[0. 0. 0. 0. 0.]\n",
            "\n",
            "\n",
            "[[0 0 0 0 0]\n",
            " [0 0 0 0 0]\n",
            " [0 0 0 0 0]\n",
            " [0 0 0 0 0]\n",
            " [0 0 0 0 0]]\n",
            "\n",
            "\n",
            "[[0 0 0]\n",
            " [0 0 0]\n",
            " [0 0 0]\n",
            " [0 0 0]\n",
            " [0 0 0]]\n"
          ]
        }
      ]
    },
    {
      "cell_type": "markdown",
      "source": [
        "## *4.NumPy ones*"
      ],
      "metadata": {
        "id": "EPOUpMpzPKgf"
      }
    },
    {
      "cell_type": "code",
      "source": [
        "#Function untuk menampilkan array baru degan ukuran tertentu dan berisi 1\n",
        "#Default dtype adalah float\n",
        "print(np.ones(5))\n",
        "print('\\n')\n",
        "print(np.ones((3,4), dtype=int))"
      ],
      "metadata": {
        "colab": {
          "base_uri": "https://localhost:8080/"
        },
        "id": "7OqxLLfqRO3a",
        "outputId": "445c19ec-8afb-4ace-96fe-04bcb55e011e"
      },
      "execution_count": null,
      "outputs": [
        {
          "output_type": "stream",
          "name": "stdout",
          "text": [
            "[1. 1. 1. 1. 1.]\n",
            "\n",
            "\n",
            "[[1 1 1 1]\n",
            " [1 1 1 1]\n",
            " [1 1 1 1]]\n"
          ]
        }
      ]
    },
    {
      "cell_type": "markdown",
      "source": [
        "# Manipulasi Array"
      ],
      "metadata": {
        "id": "GbGF1FaZPSiF"
      }
    },
    {
      "cell_type": "markdown",
      "source": [
        "## *1. Reshape*"
      ],
      "metadata": {
        "id": "IvYnlIECPfFk"
      }
    },
    {
      "cell_type": "code",
      "source": [
        "a = np.array([1,2,3,4,5,6,7,8,9,10,11,12])\n",
        "print('Array:')\n",
        "print(a)\n",
        "print('\\n')\n",
        "\n",
        "#Cara 1\n",
        "print(np.reshape(a,(3,4))) #merubah menjadi ordo 4x3 dalam matriks\n",
        "print('\\n')\n",
        "#Cara 2\n",
        "b= a.reshape(3,4) #merubah menjadi ordo 3x4 dalam matriks\n",
        "print(b)\n",
        "print('\\n')\n",
        "c=a.reshape(3,2,2)\n",
        "print(c)\n",
        "print('\\n')\n",
        "d=a.reshape(2,2,3)\n",
        "print(d)"
      ],
      "metadata": {
        "colab": {
          "base_uri": "https://localhost:8080/"
        },
        "id": "Wti2ubqcRpJ9",
        "outputId": "9152425f-2b2e-48dc-8dd0-79fae1ef8958"
      },
      "execution_count": null,
      "outputs": [
        {
          "output_type": "stream",
          "name": "stdout",
          "text": [
            "Array:\n",
            "[ 1  2  3  4  5  6  7  8  9 10 11 12]\n",
            "\n",
            "\n",
            "[[ 1  2  3  4]\n",
            " [ 5  6  7  8]\n",
            " [ 9 10 11 12]]\n",
            "\n",
            "\n",
            "[[ 1  2  3  4]\n",
            " [ 5  6  7  8]\n",
            " [ 9 10 11 12]]\n",
            "\n",
            "\n",
            "[[[ 1  2]\n",
            "  [ 3  4]]\n",
            "\n",
            " [[ 5  6]\n",
            "  [ 7  8]]\n",
            "\n",
            " [[ 9 10]\n",
            "  [11 12]]]\n",
            "\n",
            "\n",
            "[[[ 1  2  3]\n",
            "  [ 4  5  6]]\n",
            "\n",
            " [[ 7  8  9]\n",
            "  [10 11 12]]]\n"
          ]
        }
      ]
    },
    {
      "cell_type": "markdown",
      "source": [
        "## *2. Flatten*"
      ],
      "metadata": {
        "id": "W1qTRHvsPlxe"
      }
    },
    {
      "cell_type": "code",
      "source": [
        "#Array kembali menjadi bentuk Single-Dimensional(1-D) Array\n",
        "c = np.array(b).flatten()\n",
        "print(c)"
      ],
      "metadata": {
        "colab": {
          "base_uri": "https://localhost:8080/"
        },
        "id": "NQ8XekAQSOZi",
        "outputId": "cefcf31b-39ff-4665-add9-89241078ad1e"
      },
      "execution_count": null,
      "outputs": [
        {
          "output_type": "stream",
          "name": "stdout",
          "text": [
            "[ 1  2  3  4  5  6  7  8  9 10 11 12]\n"
          ]
        }
      ]
    },
    {
      "cell_type": "code",
      "source": [
        "d= np.array([[[1,2],[3,4]],[[5,6],[7,8]],[[9,10],[11,12]]])\n",
        "print(d)\n",
        "print('\\n')\n",
        "\n",
        "#Cara 1\n",
        "print(np.array(d).flatten()) \n",
        "print('\\n')\n",
        "\n",
        "#Cara 2\n",
        "e = d.flatten()\n",
        "print(e)"
      ],
      "metadata": {
        "colab": {
          "base_uri": "https://localhost:8080/"
        },
        "id": "k-JGp1dvS8yF",
        "outputId": "f26b1789-3473-4eb5-bbb4-432af4749717"
      },
      "execution_count": null,
      "outputs": [
        {
          "output_type": "stream",
          "name": "stdout",
          "text": [
            "[[[ 1  2]\n",
            "  [ 3  4]]\n",
            "\n",
            " [[ 5  6]\n",
            "  [ 7  8]]\n",
            "\n",
            " [[ 9 10]\n",
            "  [11 12]]]\n",
            "\n",
            "\n",
            "[ 1  2  3  4  5  6  7  8  9 10 11 12]\n",
            "\n",
            "\n",
            "[ 1  2  3  4  5  6  7  8  9 10 11 12]\n"
          ]
        }
      ]
    },
    {
      "cell_type": "code",
      "source": [
        "d= np.array([[1,2,3],[4,5,6],[7,8,9]])\n",
        "print(d)\n",
        "print('\\n')\n",
        "print(np.array(d).flatten()) "
      ],
      "metadata": {
        "colab": {
          "base_uri": "https://localhost:8080/"
        },
        "id": "E1UxPf52ACZR",
        "outputId": "c2da6cd5-ebd0-4648-8a17-ae55d15572cd"
      },
      "execution_count": null,
      "outputs": [
        {
          "output_type": "stream",
          "name": "stdout",
          "text": [
            "[[1 2 3]\n",
            " [4 5 6]\n",
            " [7 8 9]]\n",
            "\n",
            "\n",
            "[1 2 3 4 5 6 7 8 9]\n"
          ]
        }
      ]
    },
    {
      "cell_type": "markdown",
      "source": [
        "## *3.Transpose*"
      ],
      "metadata": {
        "id": "nrqNbvRoPuxL"
      }
    },
    {
      "cell_type": "code",
      "source": [
        "b = np.array([[[1,2],[3,4]],[[5,6],[7,8]],[[9,10],[11,12]]]) #tensor\n",
        "print(b)\n",
        "print('\\n')\n",
        "#cara 1\n",
        "TransMat = np.array(b).transpose()\n",
        "print(TransMat)\n",
        "print('\\n')\n",
        "#cara 2\n",
        "c = b.transpose()\n",
        "print(c)"
      ],
      "metadata": {
        "colab": {
          "base_uri": "https://localhost:8080/"
        },
        "id": "ggHqd5LgPvjE",
        "outputId": "93b23562-ad7f-469f-fd28-48b265e26ec8"
      },
      "execution_count": null,
      "outputs": [
        {
          "output_type": "stream",
          "name": "stdout",
          "text": [
            "[[[ 1  2]\n",
            "  [ 3  4]]\n",
            "\n",
            " [[ 5  6]\n",
            "  [ 7  8]]\n",
            "\n",
            " [[ 9 10]\n",
            "  [11 12]]]\n",
            "\n",
            "\n",
            "[[[ 1  5  9]\n",
            "  [ 3  7 11]]\n",
            "\n",
            " [[ 2  6 10]\n",
            "  [ 4  8 12]]]\n",
            "\n",
            "\n",
            "[[[ 1  5  9]\n",
            "  [ 3  7 11]]\n",
            "\n",
            " [[ 2  6 10]\n",
            "  [ 4  8 12]]]\n"
          ]
        }
      ]
    },
    {
      "cell_type": "code",
      "source": [
        "d = np.array([[1,2],[3,4],[5,6],[7,8]]) #matriks\n",
        "print(d)\n",
        "print('\\n')\n",
        "transd=np.array(d).transpose()\n",
        "print(transd)"
      ],
      "metadata": {
        "colab": {
          "base_uri": "https://localhost:8080/"
        },
        "id": "-VBRpU5uaAKb",
        "outputId": "ba74ddeb-73e8-4727-d586-bc7c5b30328e"
      },
      "execution_count": null,
      "outputs": [
        {
          "output_type": "stream",
          "name": "stdout",
          "text": [
            "[[1 2]\n",
            " [3 4]\n",
            " [5 6]\n",
            " [7 8]]\n",
            "\n",
            "\n",
            "[[1 3 5 7]\n",
            " [2 4 6 8]]\n"
          ]
        }
      ]
    },
    {
      "cell_type": "markdown",
      "source": [
        "**Axis / Axes**\n"
      ],
      "metadata": {
        "id": "-UWUukDvP1H8"
      }
    },
    {
      "cell_type": "markdown",
      "source": [
        "Digunakan untuk array yang lebih dari 1 Dimensi. Dalam 2-D array.\n",
        "\n",
        "Axis 0 adalah sepanjang vertikal ke bawah melintasi baris (row).\n",
        "Axis 1 adalah sepanjang horizontal ke samping melintasi kolom (column)"
      ],
      "metadata": {
        "id": "Uo2Y2kEJP179"
      }
    },
    {
      "cell_type": "markdown",
      "source": [
        "## *4.Concatenate*"
      ],
      "metadata": {
        "id": "TWXIG7FgP7zu"
      }
    },
    {
      "cell_type": "code",
      "source": [
        "Arr1 = np.array([[1,2,3],[4,5,6],[7,8,9]])\n",
        "Arr2 = np.array([[20,21,22],[23,24,25],[26,27,28]])\n",
        "Arr3 = np.array([[11,15,16],[17,18,19],[30,31,32]])\n",
        "#Ini Concatenate dalam Axis 0\n",
        "print(\"Concatenate 2 Array dalam axis 0:\") #nambahin di Baris/Row (vertical)\n",
        "print(np.concatenate((Arr1,Arr2), axis = 0))\n",
        "\n",
        "#Ini Concatenate dalam Axis 1\n",
        "print(\"\\nConcatenate 2 Array dalam axis 1:\") #namabahin di Kolom/Column (horizontal)\n",
        "print(np.concatenate((Arr1,Arr2), axis = 1))"
      ],
      "metadata": {
        "colab": {
          "base_uri": "https://localhost:8080/"
        },
        "id": "N6UH6hc4TcoX",
        "outputId": "863f8a90-dae3-432a-996b-3860a4e39542"
      },
      "execution_count": null,
      "outputs": [
        {
          "output_type": "stream",
          "name": "stdout",
          "text": [
            "Concatenate 2 Array dalam axis 0:\n",
            "[[ 1  2  3]\n",
            " [ 4  5  6]\n",
            " [ 7  8  9]\n",
            " [20 21 22]\n",
            " [23 24 25]\n",
            " [26 27 28]]\n",
            "\n",
            "Concatenate 2 Array dalam axis 1:\n",
            "[[ 1  2  3 20 21 22]\n",
            " [ 4  5  6 23 24 25]\n",
            " [ 7  8  9 26 27 28]]\n"
          ]
        }
      ]
    },
    {
      "cell_type": "code",
      "source": [
        "Arr1 = np.array([[1,2],[4,5],[7,8]])\n",
        "Arr2 = np.array([[20,21],[23,24],[26,27]])\n",
        "print(np.concatenate((Arr1,Arr2), axis = 1))"
      ],
      "metadata": {
        "colab": {
          "base_uri": "https://localhost:8080/"
        },
        "id": "TxHgGOrrD7-6",
        "outputId": "4af20670-ac0d-4506-e8da-e68114b8a5c7"
      },
      "execution_count": null,
      "outputs": [
        {
          "output_type": "stream",
          "name": "stdout",
          "text": [
            "[[ 1  2 20 21]\n",
            " [ 4  5 23 24]\n",
            " [ 7  8 26 27]]\n"
          ]
        }
      ]
    },
    {
      "cell_type": "code",
      "source": [
        "#Ini Concatenate dalam Axis 0\n",
        "print(\"Concatenate 2 Array dalam axis 0:\") #nambahin di Baris/Row (vertical)\n",
        "print(np.concatenate((Arr1,Arr2,Arr3), axis = 0))\n",
        "\n",
        "#Ini Concatenate dalam Axis 1\n",
        "print(\"\\nConcatenate 2 Array dalam axis 1:\") #namabahin di Kolom/Column (horizontal)\n",
        "print(np.concatenate((Arr1,Arr2,Arr3), axis = 1))"
      ],
      "metadata": {
        "colab": {
          "base_uri": "https://localhost:8080/"
        },
        "id": "zmLRvCvhOGib",
        "outputId": "0c1fea1f-b0e6-44fc-b68d-0287013ab824"
      },
      "execution_count": null,
      "outputs": [
        {
          "output_type": "stream",
          "name": "stdout",
          "text": [
            "Concatenate 2 Array dalam axis 0:\n",
            "[[ 1  2  3]\n",
            " [ 4  5  6]\n",
            " [ 7  8  9]\n",
            " [20 21 22]\n",
            " [23 24 25]\n",
            " [26 27 28]\n",
            " [11 15 16]\n",
            " [17 18 19]\n",
            " [30 31 32]]\n",
            "\n",
            "Concatenate 2 Array dalam axis 1:\n",
            "[[ 1  2  3 20 21 22 11 15 16]\n",
            " [ 4  5  6 23 24 25 17 18 19]\n",
            " [ 7  8  9 26 27 28 30 31 32]]\n"
          ]
        }
      ]
    },
    {
      "cell_type": "code",
      "source": [
        "x = np.arange(1,7).reshape(2,3)\n",
        "y = np.arange(1,3)\n",
        "print(x)\n",
        "print(y)\n",
        "print(\"\\n\")\n",
        "z = np.concatenate((x,y[:,None]),axis=1)\n",
        "print(z)"
      ],
      "metadata": {
        "colab": {
          "base_uri": "https://localhost:8080/"
        },
        "id": "vDd_ESx3QFyW",
        "outputId": "f7f2165e-c1c2-446f-e04c-d40a56fa5160"
      },
      "execution_count": null,
      "outputs": [
        {
          "output_type": "stream",
          "name": "stdout",
          "text": [
            "[[1 2 3]\n",
            " [4 5 6]]\n",
            "[1 2]\n",
            "\n",
            "\n",
            "[[1 2 3 1]\n",
            " [4 5 6 2]]\n"
          ]
        }
      ]
    },
    {
      "cell_type": "markdown",
      "source": [
        "## *5.Stack*"
      ],
      "metadata": {
        "id": "dJsSMtRMQI0n"
      }
    },
    {
      "cell_type": "code",
      "source": [
        "Arr1 = np.array([[1,2,3],[4,5,6],[7,8,9]])\n",
        "Arr2 = np.array([[20,21,22],[23,24,25],[26,27,28]])\n",
        "\n",
        "#Ini Stack dalam Axis -1\n",
        "print(\"Stack 2 Array dalam axis -1:\")\n",
        "print(np.stack((Arr1,Arr2), axis = -1))\n",
        "\n",
        "#Ini stack dalam Axis 0\n",
        "print(\"\\nStack 2 Array dalam axis 0:\")\n",
        "print(np.stack((Arr1,Arr2)))\n",
        "\n",
        "#Ini stack dalam Axis 1\n",
        "print(\"\\nStack 2 Array dalam axis 1:\")\n",
        "print(np.stack((Arr1,Arr2), axis = 1))\n"
      ],
      "metadata": {
        "colab": {
          "base_uri": "https://localhost:8080/"
        },
        "id": "2dXhUtyUVuQJ",
        "outputId": "05381711-96a3-428c-8b55-9e6d85650eec"
      },
      "execution_count": null,
      "outputs": [
        {
          "output_type": "stream",
          "name": "stdout",
          "text": [
            "Stack 2 Array dalam axis -1:\n",
            "[[[ 1 20]\n",
            "  [ 2 21]\n",
            "  [ 3 22]]\n",
            "\n",
            " [[ 4 23]\n",
            "  [ 5 24]\n",
            "  [ 6 25]]\n",
            "\n",
            " [[ 7 26]\n",
            "  [ 8 27]\n",
            "  [ 9 28]]]\n",
            "\n",
            "Stack 2 Array dalam axis 0:\n",
            "[[[ 1  2  3]\n",
            "  [ 4  5  6]\n",
            "  [ 7  8  9]]\n",
            "\n",
            " [[20 21 22]\n",
            "  [23 24 25]\n",
            "  [26 27 28]]]\n",
            "\n",
            "Stack 2 Array dalam axis 1:\n",
            "[[[ 1  2  3]\n",
            "  [20 21 22]]\n",
            "\n",
            " [[ 4  5  6]\n",
            "  [23 24 25]]\n",
            "\n",
            " [[ 7  8  9]\n",
            "  [26 27 28]]]\n"
          ]
        }
      ]
    },
    {
      "cell_type": "markdown",
      "source": [
        "## *6.Split*"
      ],
      "metadata": {
        "id": "fecu9xg4QUwB"
      }
    },
    {
      "cell_type": "code",
      "source": [
        "SplitArr = np.array([5,2,6,7,3,4,4,3,1])\n",
        "#Membagi array menajdi 3 subarrays yang sama jumlah isinya:\n",
        "SplitMat = np.split(SplitArr,3)\n",
        "print(SplitMat)\n",
        "print('\\n')\n",
        "#Membagi array di posisi yang di tunjuk sesuai dengan 1-D array:\n",
        "SplitMat = np.split(SplitArr,[1,3,5]) #split di indeks 1, kemudian indeks 3 dan 5\n",
        "print(SplitMat)\n",
        "print('\\n')\n",
        "d=np.split(SplitArr,[2,4,3])\n",
        "print(d)"
      ],
      "metadata": {
        "colab": {
          "base_uri": "https://localhost:8080/"
        },
        "id": "w5nTXjw-Qfmq",
        "outputId": "2d69e30e-945f-4977-951c-6c5cbbcbb921"
      },
      "execution_count": null,
      "outputs": [
        {
          "output_type": "stream",
          "name": "stdout",
          "text": [
            "[array([5, 2, 6]), array([7, 3, 4]), array([4, 3, 1])]\n",
            "\n",
            "\n",
            "[array([5]), array([2, 6]), array([7, 3]), array([4, 4, 3, 1])]\n",
            "\n",
            "\n",
            "[array([5, 2]), array([6, 7]), array([], dtype=int64), array([7, 3, 4, 4, 3, 1])]\n"
          ]
        }
      ]
    },
    {
      "cell_type": "markdown",
      "source": [
        "## *7.Resize*"
      ],
      "metadata": {
        "id": "X1RFtlrEQi9o"
      }
    },
    {
      "cell_type": "code",
      "source": [
        "#Mengubah size array, kalau size lebih besar maka terdapat salinan\n",
        "ResizeArr = np.array([[1,2,3],[4,5,6]])\n",
        "\n",
        "ResizeMat = np.resize(ResizeArr,(3,5))\n",
        "print(ResizeMat)\n",
        "print('\\n')\n",
        "d= np.resize(ResizeArr,(2,4))\n",
        "print(d)"
      ],
      "metadata": {
        "colab": {
          "base_uri": "https://localhost:8080/"
        },
        "id": "IBjfnhZbQlTB",
        "outputId": "8848e817-f766-48de-a088-f1ddffc87889"
      },
      "execution_count": null,
      "outputs": [
        {
          "output_type": "stream",
          "name": "stdout",
          "text": [
            "[[1 2 3 4 5]\n",
            " [6 1 2 3 4]\n",
            " [5 6 1 2 3]]\n",
            "\n",
            "\n",
            "[[1 2 3 4]\n",
            " [5 6 1 2]]\n"
          ]
        }
      ]
    },
    {
      "cell_type": "markdown",
      "source": [
        "## *8.Append*"
      ],
      "metadata": {
        "id": "s43R_ph0Qn8F"
      }
    },
    {
      "cell_type": "code",
      "source": [
        "InitialAppend = np.array([[1,2,3],\n",
        "                          [4,5,6]])\n",
        "\n",
        "#Menggabungkan Array tanpa Axis (1-D array)\n",
        "Append1 = np.append(InitialAppend, [7,8,9]) \n",
        "print(Append1)\n",
        "\n",
        "#Menggabungkan Array dalam Axis 0 (2-D Array)\n",
        "print('\\n')\n",
        "Append2 = np.append(InitialAppend, [[7,8,9]],\n",
        "                    axis=0) \n",
        "print(Append2)\n",
        "\n",
        "#Menggabungkan Array dalam Axis 1 (2-D Array)\n",
        "print('\\n')\n",
        "Append3 = np.append(InitialAppend, [[7,8,9],[10,11,12]], axis=1) \n",
        "print(Append3)"
      ],
      "metadata": {
        "colab": {
          "base_uri": "https://localhost:8080/"
        },
        "id": "YJuSRdTCQojc",
        "outputId": "306b4a47-c06f-4dcf-d3df-3d455a95c6d9"
      },
      "execution_count": null,
      "outputs": [
        {
          "output_type": "stream",
          "name": "stdout",
          "text": [
            "[1 2 3 4 5 6 7 8 9]\n",
            "\n",
            "\n",
            "[[1 2 3]\n",
            " [4 5 6]\n",
            " [7 8 9]]\n",
            "\n",
            "\n",
            "[[ 1  2  3  7  8  9]\n",
            " [ 4  5  6 10 11 12]]\n"
          ]
        }
      ]
    },
    {
      "cell_type": "markdown",
      "source": [
        "## *9.Insert*"
      ],
      "metadata": {
        "id": "cvtRpTnhQuVw"
      }
    },
    {
      "cell_type": "code",
      "source": [
        "InitialArr = np.array([[1,2],[3,4],[5,6]])\n",
        "#Insert tanpa axis, maka array akan di flatten (1-D array)\n",
        "Insert1 = np.insert(InitialArr,2,[11,12]) #Arr, Insert di indeks keberapa, yg mau di insert\n",
        "print(Insert1)\n",
        "# print('\\n')\n",
        "\n",
        "# print(InitialArr)\n",
        "\n",
        "#Insert dalam axis = 0\n",
        "print('\\n')\n",
        "Insert2 = np.insert(InitialArr,2,[11,12], axis = 0) \n",
        "print(Insert2)\n",
        "\n",
        "#Insert dalam axis = 1\n",
        "print('\\n')\n",
        "Insert3 = np.insert(InitialArr,2,[11,12,13], axis = 1) \n",
        "print(Insert3)\n"
      ],
      "metadata": {
        "colab": {
          "base_uri": "https://localhost:8080/"
        },
        "id": "zu5vV82tcFHy",
        "outputId": "e6e9f41c-6aab-4716-cc9f-eece1b6fabf3"
      },
      "execution_count": null,
      "outputs": [
        {
          "output_type": "stream",
          "name": "stdout",
          "text": [
            "[ 1  2 11 12  3  4  5  6]\n",
            "\n",
            "\n",
            "[[ 1  2]\n",
            " [ 3  4]\n",
            " [11 12]\n",
            " [ 5  6]]\n",
            "\n",
            "\n",
            "[[ 1  2 11]\n",
            " [ 3  4 12]\n",
            " [ 5  6 13]]\n"
          ]
        }
      ]
    },
    {
      "cell_type": "markdown",
      "source": [
        "## *10.Delete*"
      ],
      "metadata": {
        "id": "ks3iIi5URCOI"
      }
    },
    {
      "cell_type": "code",
      "source": [
        "InitialDel = np.arange(1,9).reshape(2,4)\n",
        "print(InitialDel)\n",
        "\n",
        "#Delete tanpa axis, maka array akan di flatten (1-D array)\n",
        "print('\\n')\n",
        "Delete1 = np.delete(InitialDel,2)  #delete indeks 2\n",
        "print(Delete1)\n",
        "\n",
        "#Delete dalam axis = 0, Row 2 Terhapus\n",
        "print('\\n')\n",
        "Delete2 = np.delete(InitialDel,0, axis = 0) \n",
        "print(Delete2)\n",
        "\n",
        "#Delete dalam axis = 1, Column 2 Terhapus\n",
        "print('\\n')\n",
        "Delete3 = np.delete(InitialDel,1, axis = 1) \n",
        "print(Delete3)\n"
      ],
      "metadata": {
        "colab": {
          "base_uri": "https://localhost:8080/"
        },
        "id": "TyHx9N2ucOuD",
        "outputId": "7edcbf6d-5b4a-4d5d-e77d-8fc5df64a4bd"
      },
      "execution_count": null,
      "outputs": [
        {
          "output_type": "stream",
          "name": "stdout",
          "text": [
            "[[1 2 3 4]\n",
            " [5 6 7 8]]\n",
            "\n",
            "\n",
            "[1 2 4 5 6 7 8]\n",
            "\n",
            "\n",
            "[[5 6 7 8]]\n",
            "\n",
            "\n",
            "[[1 3 4]\n",
            " [5 7 8]]\n"
          ]
        }
      ]
    },
    {
      "cell_type": "markdown",
      "source": [
        "## *11.Unique*"
      ],
      "metadata": {
        "id": "dLuotDtPRJOZ"
      }
    },
    {
      "cell_type": "code",
      "source": [
        "InitialUnique = np.array([5,2,6,2,7,5,6,8,2,4,2,2])\n",
        "print(InitialUnique)\n",
        "print('\\n')\n",
        "\n",
        "#Value yang unik dari array:\n",
        "UniqueFirst = np.unique(InitialUnique)\n",
        "print('Value yang unik dari array:')\n",
        "print(UniqueFirst)\n",
        "print('\\n')\n",
        "\n",
        "#Value yang unik dari array dan mencari indeksnya dimana:\n",
        "UniqueSecond = np.unique(InitialUnique, return_index=True)\n",
        "print('Value yang unik dari array dan indeksnya:')\n",
        "print(UniqueSecond)\n",
        "print('\\n')\n",
        "\n",
        "\n",
        "#Ada berapa value unik dalam array:\n",
        "UniqueSecond,indices = np.unique(InitialUnique, return_counts=True)\n",
        "print('Ada berapa value unik dalam array:')\n",
        "print(UniqueSecond)\n",
        "print(indices)\n",
        "print('\\n')\n",
        "\n",
        "#ct= np.split(InitialUnique,2)\n",
        "ct= np.split(UniqueSecond,2)\n",
        "print(ct)\n"
      ],
      "metadata": {
        "colab": {
          "base_uri": "https://localhost:8080/"
        },
        "id": "JVLIfBbAdLDs",
        "outputId": "a80ec297-ea8b-4a58-965b-c55e33010f6b"
      },
      "execution_count": null,
      "outputs": [
        {
          "output_type": "stream",
          "name": "stdout",
          "text": [
            "[5 2 6 2 7 5 6 8 2 4 2 2]\n",
            "\n",
            "\n",
            "Value yang unik dari array:\n",
            "[2 4 5 6 7 8]\n",
            "\n",
            "\n",
            "Value yang unik dari array dan indeksnya:\n",
            "(array([2, 4, 5, 6, 7, 8]), array([1, 9, 0, 2, 4, 7]))\n",
            "\n",
            "\n",
            "Ada berapa value unik dalam array:\n",
            "[2 4 5 6 7 8]\n",
            "[5 1 2 2 1 1]\n",
            "\n",
            "\n",
            "[array([2, 4, 5]), array([6, 7, 8])]\n"
          ]
        }
      ]
    },
    {
      "cell_type": "markdown",
      "source": [
        "## *12.Slice*"
      ],
      "metadata": {
        "id": "_gS3B-i4RYXS"
      }
    },
    {
      "cell_type": "code",
      "source": [
        "InitialSlc = np.arange(10)\n",
        "print(InitialSlc)\n",
        "print('\\n')\n",
        "\n",
        "#Slicing satu elemen\n",
        "s2 = InitialSlc[2]\n",
        "print('Slicing satu elemen:')\n",
        "print(s2)\n",
        "print('\\n')\n",
        "\n",
        "#Slicing mulai dari indeks sekian.....\n",
        "s3 = InitialSlc[3:]\n",
        "print('Slicing mulai dari indeks sekian:')\n",
        "print(s3)\n",
        "print('\\n')\n",
        "\n",
        "#Slicing stop di indeks sekian.....\n",
        "s31 = InitialSlc[:5]\n",
        "print('Slicing stop di indeks sekian:')\n",
        "print(s31)\n",
        "print('\\n')\n",
        "\n",
        "#Slicing values diantara indeks- indeks\n",
        "s4 = InitialSlc[3:8]\n",
        "print('Slicing values diantara indeks- indeks:')\n",
        "print(s4)\n",
        "print('\\n')\n",
        "\n",
        "#Slicing values dengan step / interval sekian.....\n",
        "s5 = InitialSlc[::2]\n",
        "print('Slicing values dengan step / interval sekian:')\n",
        "print(s5)\n",
        "print('\\n')\n",
        "\n",
        "s = InitialSlc[2:7:2]\n",
        "print('Slicing dengan semua parameter:')\n",
        "print(s)\n"
      ],
      "metadata": {
        "colab": {
          "base_uri": "https://localhost:8080/"
        },
        "id": "9yZzaoi1Retu",
        "outputId": "99104521-fcaa-4cb5-e8af-4dda0cc7ee96"
      },
      "execution_count": null,
      "outputs": [
        {
          "output_type": "stream",
          "name": "stdout",
          "text": [
            "[0 1 2 3 4 5 6 7 8 9]\n",
            "\n",
            "\n",
            "Slicing satu elemen:\n",
            "2\n",
            "\n",
            "\n",
            "Slicing mulai dari indeks sekian:\n",
            "[3 4 5 6 7 8 9]\n",
            "\n",
            "\n",
            "Slicing stop di indeks sekian:\n",
            "[0 1 2 3 4]\n",
            "\n",
            "\n",
            "Slicing values diantara indeks- indeks:\n",
            "[3 4 5 6 7]\n",
            "\n",
            "\n",
            "Slicing values dengan step / interval sekian:\n",
            "[0 2 4 6 8]\n",
            "\n",
            "\n",
            "Slicing dengan semua parameter:\n",
            "[2 4 6]\n",
            "\n",
            "\n"
          ]
        }
      ]
    },
    {
      "cell_type": "code",
      "source": [
        "a = np.arange(25).reshape(5,5)\n",
        "print(a)\n",
        "print('\\n')\n",
        "print(a[1:4,0:3])\n"
      ],
      "metadata": {
        "id": "btq8i9m1dYgT",
        "outputId": "a3629cd1-47ab-43dd-ba68-2d0dfac55c13",
        "colab": {
          "base_uri": "https://localhost:8080/"
        }
      },
      "execution_count": null,
      "outputs": [
        {
          "output_type": "stream",
          "name": "stdout",
          "text": [
            "[[ 0  1  2  3  4]\n",
            " [ 5  6  7  8  9]\n",
            " [10 11 12 13 14]\n",
            " [15 16 17 18 19]\n",
            " [20 21 22 23 24]]\n",
            "\n",
            "\n",
            "[[ 5  6  7]\n",
            " [10 11 12]\n",
            " [15 16 17]]\n"
          ]
        }
      ]
    },
    {
      "cell_type": "markdown",
      "source": [
        "# Experiment dengan Array"
      ],
      "metadata": {
        "id": "MbSxqicIRpRz"
      }
    },
    {
      "cell_type": "markdown",
      "source": [
        "Mari membuat array dibawah ini <br>\n",
        "[[1. 1. 1. 1. 1.]<br>\n",
        "[1. 0. 0. 0. 1.]<br>\n",
        "[1. 0. 9. 0. 1.]<br>\n",
        "[1. 0. 0. 0. 1.]<br>\n",
        "[1. 1. 1. 1. 1.]]"
      ],
      "metadata": {
        "id": "6eYIMQ8FRsiR"
      }
    },
    {
      "cell_type": "code",
      "source": [
        "out = np.ones((5,5))\n",
        "print(out)\n",
        "print(\"\\n\")\n",
        "in_ = np.zeros((3,3))\n",
        "print(in_)\n",
        "in_[1,1] = 9 \n",
        "print(in_)\n",
        "print(\"\\n\")\n",
        "#out[r:c]\n",
        "out[1:4,1:4] = in_\n",
        "print(out)"
      ],
      "metadata": {
        "colab": {
          "base_uri": "https://localhost:8080/"
        },
        "id": "4G7Iss9fRqE6",
        "outputId": "8272606b-69f4-439f-a03e-508da9ce582f"
      },
      "execution_count": null,
      "outputs": [
        {
          "output_type": "stream",
          "name": "stdout",
          "text": [
            "[[1. 1. 1. 1. 1.]\n",
            " [1. 1. 1. 1. 1.]\n",
            " [1. 1. 1. 1. 1.]\n",
            " [1. 1. 1. 1. 1.]\n",
            " [1. 1. 1. 1. 1.]]\n",
            "\n",
            "\n",
            "[[0. 0. 0.]\n",
            " [0. 0. 0.]\n",
            " [0. 0. 0.]]\n",
            "[[0. 0. 0.]\n",
            " [0. 9. 0.]\n",
            " [0. 0. 0.]]\n",
            "\n",
            "\n",
            "[[1. 1. 1. 1. 1.]\n",
            " [1. 0. 0. 0. 1.]\n",
            " [1. 0. 9. 0. 1.]\n",
            " [1. 0. 0. 0. 1.]\n",
            " [1. 1. 1. 1. 1.]]\n"
          ]
        }
      ]
    }
  ]
}