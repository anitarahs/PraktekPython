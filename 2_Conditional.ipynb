{
  "cells": [
    {
      "cell_type": "markdown",
      "metadata": {
        "id": "ZvP7Wy2Md8no"
      },
      "source": [
        "# Data Types Review"
      ]
    },
    {
      "cell_type": "code",
      "execution_count": null,
      "metadata": {
        "id": "enjotEq2eBiV"
      },
      "outputs": [],
      "source": [
        "#integer\n",
        "a = 2021\n",
        "print(a)"
      ]
    },
    {
      "cell_type": "code",
      "execution_count": null,
      "metadata": {
        "id": "oKkPx2SteDX8"
      },
      "outputs": [],
      "source": [
        "#float\n",
        "b = 0.2021\n",
        "print(b)"
      ]
    },
    {
      "cell_type": "code",
      "execution_count": null,
      "metadata": {
        "id": "KavrR4O7eFLG"
      },
      "outputs": [],
      "source": [
        "#data kompleks\n",
        "c = 2+21j\n",
        "print(c)"
      ]
    },
    {
      "cell_type": "code",
      "execution_count": null,
      "metadata": {
        "id": "JIKW0Z9zeHBE"
      },
      "outputs": [],
      "source": [
        "#string\n",
        "string = 'Ini adalah string baris tunggal'"
      ]
    },
    {
      "cell_type": "code",
      "execution_count": null,
      "metadata": {
        "id": "FB2Ak5MTeJlx"
      },
      "outputs": [],
      "source": [
        "string = '''Ini adalah string\n",
        "yang memiliki baris \n",
        "lebih dari satu\n",
        "bisa menggunakan tanda petik 3x'''"
      ]
    },
    {
      "cell_type": "code",
      "execution_count": null,
      "metadata": {
        "id": "2XIpaY3leSZP"
      },
      "outputs": [],
      "source": [
        "#ini komen satu baris"
      ]
    },
    {
      "cell_type": "code",
      "execution_count": null,
      "metadata": {
        "colab": {
          "base_uri": "https://localhost:8080/"
        },
        "id": "FUcTK8IieS_5",
        "outputId": "08bae097-3199-4538-e196-5641b2e6ac91"
      },
      "outputs": [
        {
          "name": "stdout",
          "output_type": "stream",
          "text": [
            "2021 Bertipe bilangan integer? True\n",
            "2021 Bertipe bilangan integer\n"
          ]
        }
      ],
      "source": [
        "a = 2021\n",
        "print(a, \"Bertipe bilangan integer?\", isinstance(2021,int)) #isinstance berguna untuk memisahkan 2 objek yg berbeda, misalnya anatara string dan int\n",
        "print(a, \"Bertipe bilangan integer\")                        #isinstance mengecek apakah suatu objek dalah instance dari suatu kelas"
      ]
    },
    {
      "cell_type": "code",
      "execution_count": null,
      "metadata": {
        "colab": {
          "base_uri": "https://localhost:8080/"
        },
        "id": "S5pszYWkf43q",
        "outputId": "645899e9-e24a-4994-8230-e796bdc16db6"
      },
      "outputs": [
        {
          "name": "stdout",
          "output_type": "stream",
          "text": [
            "0.2021 Bertipe bilangan float? True\n"
          ]
        }
      ],
      "source": [
        "b= 0.2021\n",
        "print(b, \"Bertipe bilangan float?\", isinstance(0.2021,float))"
      ]
    },
    {
      "cell_type": "code",
      "execution_count": null,
      "metadata": {
        "colab": {
          "base_uri": "https://localhost:8080/"
        },
        "id": "082XIzEAgAcW",
        "outputId": "0168d249-fae1-47a7-ed55-808894de1b73"
      },
      "outputs": [
        {
          "data": {
            "text/plain": [
              "False"
            ]
          },
          "execution_count": 8,
          "metadata": {},
          "output_type": "execute_result"
        }
      ],
      "source": [
        "#Boolean\n",
        "x = 4\n",
        "y = 2\n",
        "x == y #apakah x = y? "
      ]
    },
    {
      "cell_type": "code",
      "execution_count": null,
      "metadata": {
        "colab": {
          "base_uri": "https://localhost:8080/"
        },
        "id": "GKMAkMNlgECL",
        "outputId": "7f479c0b-59db-4cdb-cad1-25d25c179cb1"
      },
      "outputs": [
        {
          "data": {
            "text/plain": [
              "True"
            ]
          },
          "execution_count": 9,
          "metadata": {},
          "output_type": "execute_result"
        }
      ],
      "source": [
        "x = 5\n",
        "y = 6\n",
        "x < y"
      ]
    },
    {
      "cell_type": "markdown",
      "metadata": {
        "id": "o4TR5XRzgN6_"
      },
      "source": [
        "# Slicing"
      ]
    },
    {
      "cell_type": "code",
      "execution_count": null,
      "metadata": {
        "colab": {
          "base_uri": "https://localhost:8080/"
        },
        "id": "xTt89yjAgSjV",
        "outputId": "cb34b2d7-2cd5-4778-dbb0-823fe861f0e1"
      },
      "outputs": [
        {
          "name": "stdout",
          "output_type": "stream",
          "text": [
            "l\n",
            "orld\n",
            "el o\n",
            "Hello World!\n"
          ]
        }
      ],
      "source": [
        "s = \"Hello World!\"\n",
        "print(s[3]) # huruf -l\n",
        "print(s[7:11])\n",
        "print(s[1:8:2])\n",
        "#s = \"-\"\n",
        "print(s)\n",
        "# s = \"Hallo Dunia!\"\n",
        "# print(s[1:8:2])"
      ]
    },
    {
      "cell_type": "code",
      "execution_count": null,
      "metadata": {
        "colab": {
          "base_uri": "https://localhost:8080/",
          "height": 53
        },
        "id": "dko_uR_Tgi6g",
        "outputId": "12efd708-aa2c-44e2-b5d3-eea4b475540a"
      },
      "outputs": [
        {
          "name": "stdout",
          "output_type": "stream",
          "text": [
            "[2021, 0.2021, 'python']\n"
          ]
        },
        {
          "data": {
            "application/vnd.google.colaboratory.intrinsic+json": {
              "type": "string"
            },
            "text/plain": [
              "'p'"
            ]
          },
          "execution_count": 16,
          "metadata": {},
          "output_type": "execute_result"
        }
      ],
      "source": [
        "my_list = [2021, 0.2021, 'python']\n",
        "print(my_list)\n",
        "\n",
        "m = my_list[2]\n",
        "m[0]"
      ]
    },
    {
      "cell_type": "code",
      "execution_count": null,
      "metadata": {
        "colab": {
          "base_uri": "https://localhost:8080/"
        },
        "id": "igoaabeet2na",
        "outputId": "39544b12-21f2-4ecd-cb50-f61e2f004344"
      },
      "outputs": [
        {
          "name": "stdout",
          "output_type": "stream",
          "text": [
            "60\n",
            "80\n",
            "[40, 50]\n",
            "[10, 20, 30, 40, 50]\n",
            "[60, 70, 80]\n",
            "[20, 40, 60]\n"
          ]
        }
      ],
      "source": [
        "#list\n",
        "x = [10,20,30,40,50,60,70,80]\n",
        "\n",
        "print(x[5])\n",
        "print(x[-1]) \n",
        "print(x[3:5]) \n",
        "print(x[:5]) \n",
        "print(x[-3:])\n",
        "print(x[1:7:2])"
      ]
    },
    {
      "cell_type": "code",
      "execution_count": null,
      "metadata": {
        "colab": {
          "base_uri": "https://localhost:8080/"
        },
        "id": "EBJyRaufuil_",
        "outputId": "f3e648c9-fbe1-458f-9e48-e1634ebdeb64"
      },
      "outputs": [
        {
          "name": "stdout",
          "output_type": "stream",
          "text": [
            "[90, 95, 85]\n",
            "[100, 90, 95, 85, 80]\n",
            "\n",
            "\n",
            "[100, 85]\n",
            "[85, 80, 20]\n",
            "[100, 90, 95]\n",
            "[100, 90, 95]\n"
          ]
        }
      ],
      "source": [
        "#index = [0,1,2,......,n] index selalu dimulai dari 0 berurutan sampai ke-n\n",
        "data2021 = [100,90,95,85,80,20]   #ini adalah list\n",
        "\n",
        "print(data2021[1:4])  # ambil data 2-4 atau index 1-3\n",
        "print(data2021[:5])  # ambil data 1-5 atau index 0-4 \n",
        "    \n",
        "print(\"\\n\")    \n",
        "\n",
        "print(data2021[:6:3])  # ambil data ke-1 sampai data ke-6 dengan 2 langkah\n",
        "                        # ambil index ke-0 sampai index ke-5 dengan 2 langkah\n",
        "print(data2021[-3:])  # ambil 3 data terakhir dari belakang\n",
        "print(data2021[:-3])  # ambil 3 data dari awal\n",
        "print(data2021[:3])"
      ]
    },
    {
      "cell_type": "markdown",
      "metadata": {
        "id": "f0phVEsavslV"
      },
      "source": [
        "## Latihan Slicing"
      ]
    },
    {
      "cell_type": "code",
      "execution_count": null,
      "metadata": {
        "colab": {
          "base_uri": "https://localhost:8080/"
        },
        "id": "ac1CXFjNv3Nn",
        "outputId": "82031a8d-e1aa-4b30-e133-da95930f1113"
      },
      "outputs": [
        {
          "data": {
            "text/plain": [
              "9"
            ]
          },
          "execution_count": 37,
          "metadata": {},
          "output_type": "execute_result"
        }
      ],
      "source": [
        "lists = [11,12,13,14,15,16,17,18,19]\n",
        "len(lists)"
      ]
    },
    {
      "cell_type": "code",
      "execution_count": null,
      "metadata": {
        "colab": {
          "base_uri": "https://localhost:8080/"
        },
        "id": "gfW-lciEwRCd",
        "outputId": "a00916e1-4c1d-4801-d21d-b9d1aa3c8449"
      },
      "outputs": [
        {
          "data": {
            "text/plain": [
              "[12, 13, 14, 15, 16]"
            ]
          },
          "execution_count": 30,
          "metadata": {},
          "output_type": "execute_result"
        }
      ],
      "source": [
        "#1. Ambil data ke 2-6 --> Indeks ke 1 - Indeks ke 5\n",
        "lists[1:6]"
      ]
    },
    {
      "cell_type": "code",
      "execution_count": null,
      "metadata": {
        "colab": {
          "base_uri": "https://localhost:8080/"
        },
        "id": "cnsUtrRiwS9W",
        "outputId": "016a84d2-2a43-4682-afbe-2151152a41b1"
      },
      "outputs": [
        {
          "name": "stdout",
          "output_type": "stream",
          "text": [
            "[11, 13, 15, 17, 19]\n",
            "[11, 13, 15, 17, 19]\n"
          ]
        }
      ],
      "source": [
        "#2. Ambil data 1,3,5,7,9\n",
        "print(lists[0::2])\n",
        "print(lists[0:9:2])"
      ]
    },
    {
      "cell_type": "code",
      "execution_count": null,
      "metadata": {
        "colab": {
          "base_uri": "https://localhost:8080/"
        },
        "id": "thAOruBKxiK3",
        "outputId": "775857a8-9e23-4454-cf3f-90b37574fc9d"
      },
      "outputs": [
        {
          "name": "stdout",
          "output_type": "stream",
          "text": [
            "[12, 15, 18]\n",
            "[12, 15, 18]\n"
          ]
        }
      ],
      "source": [
        "#.3 Ambil data ke 2,5,8\n",
        "print(lists[1:8:3])\n",
        "print(lists[1::3])"
      ]
    },
    {
      "cell_type": "code",
      "execution_count": null,
      "metadata": {
        "colab": {
          "base_uri": "https://localhost:8080/"
        },
        "id": "KOwzIbTty-W9",
        "outputId": "5c07cedd-541f-4e61-a5ae-fb9c6f985896"
      },
      "outputs": [
        {
          "name": "stdout",
          "output_type": "stream",
          "text": [
            "[14, 15, 16, 17, 18, 19]\n",
            "[14, 15, 16, 17, 18, 19]\n",
            "[14, 15, 16, 17, 18, 19]\n"
          ]
        }
      ],
      "source": [
        "#.4 Ambil data ke-4 sampai data ke-9\n",
        "print(lists[3:9])\n",
        "print(lists[-6:])\n",
        "print(lists[3:])"
      ]
    },
    {
      "cell_type": "markdown",
      "metadata": {
        "id": "742h7FiV02XB"
      },
      "source": [
        "# Conditional"
      ]
    },
    {
      "cell_type": "code",
      "execution_count": null,
      "metadata": {
        "colab": {
          "base_uri": "https://localhost:8080/"
        },
        "id": "JrtFetgz05iN",
        "outputId": "0fe32bb2-e221-4760-f34c-60c75f225f45"
      },
      "outputs": [
        {
          "output_type": "stream",
          "name": "stdout",
          "text": [
            "Bukan Sabtu\n"
          ]
        }
      ],
      "source": [
        "x = 2\n",
        "y = 2\n",
        "z = (x==y) # Comparison expression (Utk mengevaluasi false/True)\n",
        "if z: # Conditional jika z bernilai true/false \n",
        "    print(\"Bukan Sabtu\")\n",
        "else: print(\"Sabtu\")"
      ]
    },
    {
      "cell_type": "code",
      "execution_count": null,
      "metadata": {
        "colab": {
          "base_uri": "https://localhost:8080/"
        },
        "id": "opqrvWqX2Kzx",
        "outputId": "cac76101-3c01-4527-cd25-71e7bc9a6020"
      },
      "outputs": [
        {
          "name": "stdout",
          "output_type": "stream",
          "text": [
            "Sekarang tanggal 28 May\n"
          ]
        }
      ],
      "source": [
        "x= 27\n",
        "y = 11\n",
        "\n",
        "if x < y: # Apakah x < y?\n",
        "    print('Sekarang tanggal 29 May')\n",
        "else:\n",
        "    print('Sekarang tanggal 28 May')"
      ]
    },
    {
      "cell_type": "code",
      "execution_count": null,
      "metadata": {
        "colab": {
          "base_uri": "https://localhost:8080/"
        },
        "id": "TnXKy-To2VmV",
        "outputId": "55e8bcca-9194-4c3e-c672-494dfde4241e"
      },
      "outputs": [
        {
          "output_type": "stream",
          "name": "stdout",
          "text": [
            "Sekarang Siang hari\n",
            "\n",
            "\n",
            "Sekarang Pagi hari\n"
          ]
        }
      ],
      "source": [
        "a = 15\n",
        "b = 14\n",
        " \n",
        "if a != b:  #!= artinya negasi atau kebalikan\n",
        "  print('Sekarang Siang hari')\n",
        "else:\n",
        "  print('Sekarang Pagi hari')\n",
        "print(\"\\n\")\n",
        "\n",
        "a = 14\n",
        "b = 14\n",
        " \n",
        "if a != b:  #!= artinya negasi atau kebalikan\n",
        "  print('Sekarang Siang hari')\n",
        "else:\n",
        "  print('Sekarang Pagi hari')"
      ]
    },
    {
      "cell_type": "markdown",
      "metadata": {
        "id": "5ZjtUTVy4I9f"
      },
      "source": [
        "## While Loop Statement"
      ]
    },
    {
      "cell_type": "code",
      "execution_count": null,
      "metadata": {
        "colab": {
          "base_uri": "https://localhost:8080/"
        },
        "id": "aES4s6_L9w5J",
        "outputId": "ee44b14f-6152-40ab-82b7-66d36b1df34e"
      },
      "outputs": [
        {
          "name": "stdout",
          "output_type": "stream",
          "text": [
            "1\n",
            "2\n",
            "3\n",
            "4\n",
            "5\n",
            "6\n",
            "7\n",
            "8\n",
            "9\n",
            "10\n",
            "It is done\n"
          ]
        }
      ],
      "source": [
        "# printing 1 to 10\n",
        "num = 1 # initial condition\n",
        "while num <= 10: # test expression\n",
        "    print(num) # print num\n",
        "    num = num + 1 # increment num by 1\n",
        "    \n",
        "print('It is done')"
      ]
    },
    {
      "cell_type": "code",
      "source": [
        "# printing 1 to 10\n",
        "num = 2 # initial condition\n",
        "while num < 10: # test expression\n",
        "    print(num) # print num\n",
        "    num = num + 2 # increment num by 1\n",
        "    \n",
        "print('It is done')"
      ],
      "metadata": {
        "colab": {
          "base_uri": "https://localhost:8080/"
        },
        "id": "KRMj3J5YmCUL",
        "outputId": "9a70918d-f84a-4034-b3fa-68e4df4a6553"
      },
      "execution_count": null,
      "outputs": [
        {
          "output_type": "stream",
          "name": "stdout",
          "text": [
            "2\n",
            "4\n",
            "6\n",
            "8\n",
            "It is done\n"
          ]
        }
      ]
    },
    {
      "cell_type": "code",
      "source": [
        "# printing 1 to 10\n",
        "num = 1000 # initial condition\n",
        "while num != 574: # test expression\n",
        "    print(num) # print num\n",
        "    num -= 1 # increment num by 1\n",
        "    \n",
        "print('mati satu tinggal',num)"
      ],
      "metadata": {
        "colab": {
          "base_uri": "https://localhost:8080/"
        },
        "id": "p3Jdv3TxmLi2",
        "outputId": "9bc09d35-a20d-4535-8378-1462d21a9d71"
      },
      "execution_count": null,
      "outputs": [
        {
          "output_type": "stream",
          "name": "stdout",
          "text": [
            "1000\n",
            "999\n",
            "998\n",
            "997\n",
            "996\n",
            "995\n",
            "994\n",
            "993\n",
            "992\n",
            "991\n",
            "990\n",
            "989\n",
            "988\n",
            "987\n",
            "986\n",
            "985\n",
            "984\n",
            "983\n",
            "982\n",
            "981\n",
            "980\n",
            "979\n",
            "978\n",
            "977\n",
            "976\n",
            "975\n",
            "974\n",
            "973\n",
            "972\n",
            "971\n",
            "970\n",
            "969\n",
            "968\n",
            "967\n",
            "966\n",
            "965\n",
            "964\n",
            "963\n",
            "962\n",
            "961\n",
            "960\n",
            "959\n",
            "958\n",
            "957\n",
            "956\n",
            "955\n",
            "954\n",
            "953\n",
            "952\n",
            "951\n",
            "950\n",
            "949\n",
            "948\n",
            "947\n",
            "946\n",
            "945\n",
            "944\n",
            "943\n",
            "942\n",
            "941\n",
            "940\n",
            "939\n",
            "938\n",
            "937\n",
            "936\n",
            "935\n",
            "934\n",
            "933\n",
            "932\n",
            "931\n",
            "930\n",
            "929\n",
            "928\n",
            "927\n",
            "926\n",
            "925\n",
            "924\n",
            "923\n",
            "922\n",
            "921\n",
            "920\n",
            "919\n",
            "918\n",
            "917\n",
            "916\n",
            "915\n",
            "914\n",
            "913\n",
            "912\n",
            "911\n",
            "910\n",
            "909\n",
            "908\n",
            "907\n",
            "906\n",
            "905\n",
            "904\n",
            "903\n",
            "902\n",
            "901\n",
            "900\n",
            "899\n",
            "898\n",
            "897\n",
            "896\n",
            "895\n",
            "894\n",
            "893\n",
            "892\n",
            "891\n",
            "890\n",
            "889\n",
            "888\n",
            "887\n",
            "886\n",
            "885\n",
            "884\n",
            "883\n",
            "882\n",
            "881\n",
            "880\n",
            "879\n",
            "878\n",
            "877\n",
            "876\n",
            "875\n",
            "874\n",
            "873\n",
            "872\n",
            "871\n",
            "870\n",
            "869\n",
            "868\n",
            "867\n",
            "866\n",
            "865\n",
            "864\n",
            "863\n",
            "862\n",
            "861\n",
            "860\n",
            "859\n",
            "858\n",
            "857\n",
            "856\n",
            "855\n",
            "854\n",
            "853\n",
            "852\n",
            "851\n",
            "850\n",
            "849\n",
            "848\n",
            "847\n",
            "846\n",
            "845\n",
            "844\n",
            "843\n",
            "842\n",
            "841\n",
            "840\n",
            "839\n",
            "838\n",
            "837\n",
            "836\n",
            "835\n",
            "834\n",
            "833\n",
            "832\n",
            "831\n",
            "830\n",
            "829\n",
            "828\n",
            "827\n",
            "826\n",
            "825\n",
            "824\n",
            "823\n",
            "822\n",
            "821\n",
            "820\n",
            "819\n",
            "818\n",
            "817\n",
            "816\n",
            "815\n",
            "814\n",
            "813\n",
            "812\n",
            "811\n",
            "810\n",
            "809\n",
            "808\n",
            "807\n",
            "806\n",
            "805\n",
            "804\n",
            "803\n",
            "802\n",
            "801\n",
            "800\n",
            "799\n",
            "798\n",
            "797\n",
            "796\n",
            "795\n",
            "794\n",
            "793\n",
            "792\n",
            "791\n",
            "790\n",
            "789\n",
            "788\n",
            "787\n",
            "786\n",
            "785\n",
            "784\n",
            "783\n",
            "782\n",
            "781\n",
            "780\n",
            "779\n",
            "778\n",
            "777\n",
            "776\n",
            "775\n",
            "774\n",
            "773\n",
            "772\n",
            "771\n",
            "770\n",
            "769\n",
            "768\n",
            "767\n",
            "766\n",
            "765\n",
            "764\n",
            "763\n",
            "762\n",
            "761\n",
            "760\n",
            "759\n",
            "758\n",
            "757\n",
            "756\n",
            "755\n",
            "754\n",
            "753\n",
            "752\n",
            "751\n",
            "750\n",
            "749\n",
            "748\n",
            "747\n",
            "746\n",
            "745\n",
            "744\n",
            "743\n",
            "742\n",
            "741\n",
            "740\n",
            "739\n",
            "738\n",
            "737\n",
            "736\n",
            "735\n",
            "734\n",
            "733\n",
            "732\n",
            "731\n",
            "730\n",
            "729\n",
            "728\n",
            "727\n",
            "726\n",
            "725\n",
            "724\n",
            "723\n",
            "722\n",
            "721\n",
            "720\n",
            "719\n",
            "718\n",
            "717\n",
            "716\n",
            "715\n",
            "714\n",
            "713\n",
            "712\n",
            "711\n",
            "710\n",
            "709\n",
            "708\n",
            "707\n",
            "706\n",
            "705\n",
            "704\n",
            "703\n",
            "702\n",
            "701\n",
            "700\n",
            "699\n",
            "698\n",
            "697\n",
            "696\n",
            "695\n",
            "694\n",
            "693\n",
            "692\n",
            "691\n",
            "690\n",
            "689\n",
            "688\n",
            "687\n",
            "686\n",
            "685\n",
            "684\n",
            "683\n",
            "682\n",
            "681\n",
            "680\n",
            "679\n",
            "678\n",
            "677\n",
            "676\n",
            "675\n",
            "674\n",
            "673\n",
            "672\n",
            "671\n",
            "670\n",
            "669\n",
            "668\n",
            "667\n",
            "666\n",
            "665\n",
            "664\n",
            "663\n",
            "662\n",
            "661\n",
            "660\n",
            "659\n",
            "658\n",
            "657\n",
            "656\n",
            "655\n",
            "654\n",
            "653\n",
            "652\n",
            "651\n",
            "650\n",
            "649\n",
            "648\n",
            "647\n",
            "646\n",
            "645\n",
            "644\n",
            "643\n",
            "642\n",
            "641\n",
            "640\n",
            "639\n",
            "638\n",
            "637\n",
            "636\n",
            "635\n",
            "634\n",
            "633\n",
            "632\n",
            "631\n",
            "630\n",
            "629\n",
            "628\n",
            "627\n",
            "626\n",
            "625\n",
            "624\n",
            "623\n",
            "622\n",
            "621\n",
            "620\n",
            "619\n",
            "618\n",
            "617\n",
            "616\n",
            "615\n",
            "614\n",
            "613\n",
            "612\n",
            "611\n",
            "610\n",
            "609\n",
            "608\n",
            "607\n",
            "606\n",
            "605\n",
            "604\n",
            "603\n",
            "602\n",
            "601\n",
            "600\n",
            "599\n",
            "598\n",
            "597\n",
            "596\n",
            "595\n",
            "594\n",
            "593\n",
            "592\n",
            "591\n",
            "590\n",
            "589\n",
            "588\n",
            "587\n",
            "586\n",
            "585\n",
            "584\n",
            "583\n",
            "582\n",
            "581\n",
            "580\n",
            "579\n",
            "578\n",
            "577\n",
            "576\n",
            "575\n",
            "mati satu tinggal 574\n"
          ]
        }
      ]
    },
    {
      "cell_type": "code",
      "execution_count": null,
      "metadata": {
        "colab": {
          "base_uri": "https://localhost:8080/"
        },
        "id": "KpKLO1RM9004",
        "outputId": "a56438e9-d98d-455e-fa47-4c4c3c43b4cc"
      },
      "outputs": [
        {
          "output_type": "stream",
          "name": "stdout",
          "text": [
            "1 iterasi ke- 1\n",
            "2 iterasi ke- 2\n",
            "3 iterasi ke- 3\n",
            "4 iterasi ke- 4\n",
            "5 iterasi ke- 5\n",
            "6 iterasi ke- 6\n",
            "7 iterasi ke- 7\n",
            "8 iterasi ke- 8\n",
            "9 iterasi ke- 9\n",
            "10 iterasi ke- 10\n",
            "It is done\n"
          ]
        }
      ],
      "source": [
        "# printing 1 to 10\n",
        "num = 1 # initial condition\n",
        "while num < 11: # test expression\n",
        "    print(num, 'iterasi ke-', num) # print num\n",
        "    num = num + 1 # increment num by 1\n",
        "    \n",
        "print('It is done')\n",
        "    "
      ]
    },
    {
      "cell_type": "code",
      "execution_count": null,
      "metadata": {
        "colab": {
          "base_uri": "https://localhost:8080/"
        },
        "id": "4rXF0_6A-Zgm",
        "outputId": "c498255e-1b96-4088-adaf-e655177a9a72"
      },
      "outputs": [
        {
          "name": "stdout",
          "output_type": "stream",
          "text": [
            "Benjamin is bad\n",
            "Benjamin is good\n",
            "Benjamin is bad\n",
            "Benjamin is good\n",
            "Benjamin is bad\n"
          ]
        }
      ],
      "source": [
        "i = 1\n",
        "while i < 6:\n",
        "  if(i%2 == 0):  #i%2 ==0 artinya habis dibagi 2 sama dengan 0\n",
        "    print(\"Benjamin is good\")\n",
        "  else:\n",
        "    print(\"Benjamin is bad\")\n",
        "  i += 1"
      ]
    },
    {
      "cell_type": "markdown",
      "metadata": {
        "id": "ywBRcK2G-vxB"
      },
      "source": [
        "## For Loop Statement"
      ]
    },
    {
      "cell_type": "code",
      "execution_count": null,
      "metadata": {
        "colab": {
          "base_uri": "https://localhost:8080/"
        },
        "id": "bM384zY5_NO_",
        "outputId": "74903900-ef08-423f-c356-89af98490e04"
      },
      "outputs": [
        {
          "output_type": "execute_result",
          "data": {
            "text/plain": [
              "[1, 2, 3, 4, 5, 6, 7, 8, 9, 10]"
            ]
          },
          "metadata": {},
          "execution_count": 62
        }
      ],
      "source": [
        "numbers = [1, 2, 3, 4, 5, 6, 7, 8, 9, 10] # list\n",
        "numbers"
      ]
    },
    {
      "cell_type": "code",
      "execution_count": null,
      "metadata": {
        "colab": {
          "base_uri": "https://localhost:8080/"
        },
        "id": "vCwpMWNm-3l_",
        "outputId": "bb02a3c3-584f-41b2-f1b8-377e998edfb3"
      },
      "outputs": [
        {
          "output_type": "stream",
          "name": "stdout",
          "text": [
            "\n",
            "The sum of total currently is 55\n",
            "\n",
            "The avg of total currently is 5.5\n"
          ]
        }
      ],
      "source": [
        "total = 0\n",
        "for val in numbers:\n",
        "  total = total + val #increment + nilai dari list\n",
        "  avg = total / val  \n",
        "print(\"\\nThe sum of total currently is {}\".format(total))\n",
        "print(\"\\nThe avg of total currently is {}\".format(avg))"
      ]
    },
    {
      "cell_type": "code",
      "execution_count": null,
      "metadata": {
        "colab": {
          "base_uri": "https://localhost:8080/"
        },
        "id": "1N_JhJOy__ZK",
        "outputId": "b36571ed-ee9a-401e-abe2-7415aea571e8"
      },
      "outputs": [
        {
          "output_type": "stream",
          "name": "stdout",
          "text": [
            "['Haha', 'True', 'True', 'True', 'True', 'False', 'False']\n"
          ]
        }
      ],
      "source": [
        "number = [1,2,3,4,5,7]\n",
        "xand = [\"Haha\"]\n",
        "a = 5\n",
        "for i in number:\n",
        "  if i < a:\n",
        "    xand.append(\"True\") #Append adalah menggabungkan\n",
        "  else:\n",
        "    xand.append(\"False\")\n",
        "print(xand)"
      ]
    },
    {
      "cell_type": "code",
      "execution_count": null,
      "metadata": {
        "colab": {
          "base_uri": "https://localhost:8080/"
        },
        "id": "4l3RpaMNAZ76",
        "outputId": "6dbdd77a-2ab6-4246-90c3-d514990011ba"
      },
      "outputs": [
        {
          "output_type": "stream",
          "name": "stdout",
          "text": [
            "3\n",
            "4\n",
            "5\n"
          ]
        }
      ],
      "source": [
        "num = [1,2,3,4,5,6]\n",
        "# printing 3 to 5\n",
        "a=0\n",
        "for i in range(3, 6):\n",
        "  num = a + 1\n",
        "  print(i)\n"
      ]
    },
    {
      "cell_type": "code",
      "source": [
        "number1 = [1,2,3,4,5,6]\n",
        "num=0\n",
        "for val in number1:  #number1 itu berapa banyak loopnya atau berapa kali loop\n",
        "  num = num+2\n",
        "  print(num)\n"
      ],
      "metadata": {
        "colab": {
          "base_uri": "https://localhost:8080/"
        },
        "id": "r7g4jh-XtUzx",
        "outputId": "d65bf81e-57da-4f6e-acfb-c65954a8f82e"
      },
      "execution_count": null,
      "outputs": [
        {
          "output_type": "stream",
          "name": "stdout",
          "text": [
            "2\n",
            "4\n",
            "6\n",
            "8\n",
            "10\n",
            "12\n"
          ]
        }
      ]
    },
    {
      "cell_type": "code",
      "source": [
        "numbers = [1,2,3,4,5,6]\n",
        "num=1\n",
        "for i in range(2, 6):\n",
        "  num = num + 1\n",
        "  print(num)\n"
      ],
      "metadata": {
        "colab": {
          "base_uri": "https://localhost:8080/"
        },
        "id": "JGsMD4wt1GEs",
        "outputId": "a53ba9c3-d120-4a37-9a5b-82c3e79bea41"
      },
      "execution_count": null,
      "outputs": [
        {
          "output_type": "stream",
          "name": "stdout",
          "text": [
            "2\n",
            "3\n",
            "4\n",
            "5\n"
          ]
        }
      ]
    },
    {
      "cell_type": "code",
      "execution_count": null,
      "metadata": {
        "colab": {
          "base_uri": "https://localhost:8080/"
        },
        "id": "smWQWiUoCGl3",
        "outputId": "0e4e2fd8-65e1-423e-8a9b-2e3d57629107"
      },
      "outputs": [
        {
          "name": "stdout",
          "output_type": "stream",
          "text": [
            "hello!\n",
            "world!\n",
            "hi!\n",
            "everyone!\n"
          ]
        }
      ],
      "source": [
        "words = ['hello', 'world', 'hi', 'everyone'] # list\n",
        "\n",
        "for w in words:\n",
        "    print(w +'!')\n",
        "    \n",
        "# mengiterasi sebuah list, dictionary, tuple, for loop\n",
        "# mengiterasi berdasarkan sebuah prasyarat / kondisi, while loop"
      ]
    },
    {
      "cell_type": "code",
      "execution_count": null,
      "metadata": {
        "colab": {
          "base_uri": "https://localhost:8080/"
        },
        "id": "UWRXEb5aCJSo",
        "outputId": "c89e30b7-f7d0-40d6-b741-87fe6ca1d5f0"
      },
      "outputs": [
        {
          "name": "stdout",
          "output_type": "stream",
          "text": [
            "hello !\n",
            "world !\n",
            "hi !\n",
            "everyone !\n"
          ]
        }
      ],
      "source": [
        "words = ['hello', 'world', 'hi', 'everyone']\n",
        "counter = 0\n",
        "number = len(words)\n",
        "\n",
        "while counter < number:\n",
        "    word = words[counter]\n",
        "    print(word + ' !')\n",
        "    counter = counter + 1"
      ]
    },
    {
      "cell_type": "markdown",
      "metadata": {
        "id": "S8i15ZlHCOEC"
      },
      "source": [
        "## Nested Loop"
      ]
    },
    {
      "cell_type": "code",
      "execution_count": null,
      "metadata": {
        "colab": {
          "base_uri": "https://localhost:8080/"
        },
        "id": "N2WK0MH_CV7W",
        "outputId": "b93bd851-d101-40bc-c822-c4c167b63905"
      },
      "outputs": [
        {
          "output_type": "stream",
          "name": "stdout",
          "text": [
            "1 hello\n",
            "1 world\n",
            "1 hi\n",
            "1 everyone\n",
            "1 welcome\n",
            "2 hello\n",
            "2 world\n",
            "2 hi\n",
            "2 everyone\n",
            "2 welcome\n",
            "3 hello\n",
            "3 world\n",
            "3 hi\n",
            "3 everyone\n",
            "3 welcome\n",
            "4 hello\n",
            "4 world\n",
            "4 hi\n",
            "4 everyone\n",
            "4 welcome\n"
          ]
        }
      ],
      "source": [
        "numbers = [\"1\", \"2\", \"3\", \"4\"]\n",
        "words = ['hello', 'world', 'hi', 'everyone','welcome']\n",
        "\n",
        "for i in numbers: # outer loop\n",
        "    for w in words: # inner loop\n",
        "        print(i + \" \" + w)\n",
        "        \n",
        "# hasil nested loop = jumlah iterasi inner loop x jumlah iterasi outer loop"
      ]
    },
    {
      "cell_type": "markdown",
      "metadata": {
        "id": "qp1tuva3Cv31"
      },
      "source": [
        "## Break and Continue Statetment"
      ]
    },
    {
      "cell_type": "markdown",
      "metadata": {
        "id": "QWVf9x8jfPC5"
      },
      "source": [
        "**Check even numbers only**"
      ]
    },
    {
      "cell_type": "code",
      "execution_count": null,
      "metadata": {
        "colab": {
          "base_uri": "https://localhost:8080/"
        },
        "id": "Sl4gKmEbFk04",
        "outputId": "2acb7602-dd09-440a-fe61-7f0b657148fb"
      },
      "outputs": [
        {
          "name": "stdout",
          "output_type": "stream",
          "text": [
            "2\n",
            "4\n",
            "6\n",
            "8\n",
            "10\n"
          ]
        }
      ],
      "source": [
        "numbers = [1, 2, 3, 4, 5, 6, 7, 8, 9, 10]\n",
        "\n",
        "#print only even number\n",
        "for num in numbers:\n",
        "    if num % 2 != 0: #Ganjil #!= adalah inequality (nilai tidak sama dengan)\n",
        "        continue\n",
        "    else:\n",
        "        print(num)"
      ]
    },
    {
      "cell_type": "markdown",
      "metadata": {
        "id": "g3_KyQFdfRLD"
      },
      "source": [
        "**Terminate printing if \"a\" alphabet is appear**"
      ]
    },
    {
      "cell_type": "code",
      "execution_count": null,
      "metadata": {
        "colab": {
          "base_uri": "https://localhost:8080/"
        },
        "id": "pIpmopUpfUfk",
        "outputId": "f53586cb-da59-40c0-f504-1a34e07ea63a"
      },
      "outputs": [
        {
          "name": "stdout",
          "output_type": "stream",
          "text": [
            "h\n",
            "e\n",
            "l\n",
            "l\n",
            "o\n",
            " \n",
            "h\n"
          ]
        }
      ],
      "source": [
        "string = 'hello hallo'\n",
        "\n",
        "for s in string:\n",
        "    if s == 'a':\n",
        "        break\n",
        "    print(s)"
      ]
    },
    {
      "cell_type": "code",
      "source": [
        "numbers = [2, 4, 5, 6, 7, 8, 9, 10]\n",
        "\n",
        "#print only even number\n",
        "for num in numbers:\n",
        "    if num % 2 != 0: #Ganjil\n",
        "        break\n",
        "    else:\n",
        "      print(num)"
      ],
      "metadata": {
        "colab": {
          "base_uri": "https://localhost:8080/"
        },
        "id": "HJkh0exqY818",
        "outputId": "b82eea07-c109-42b7-e41e-ecc3a4347329"
      },
      "execution_count": null,
      "outputs": [
        {
          "output_type": "stream",
          "name": "stdout",
          "text": [
            "2\n",
            "4\n"
          ]
        }
      ]
    },
    {
      "cell_type": "markdown",
      "metadata": {
        "id": "ppt7lg8Dffdw"
      },
      "source": [
        "# Contoh Soal"
      ]
    },
    {
      "cell_type": "code",
      "execution_count": null,
      "metadata": {
        "id": "iAacJjBkfmU9",
        "colab": {
          "base_uri": "https://localhost:8080/"
        },
        "outputId": "30dbb8c2-9603-4830-8023-fe2ae63eda9c"
      },
      "outputs": [
        {
          "output_type": "stream",
          "name": "stdout",
          "text": [
            "10\n",
            "Anda akan membeli 5 apel\n",
            "Harga total adalah 10 dolar\n"
          ]
        }
      ],
      "source": [
        "# Berikan 2 ke variable apple_price \n",
        "apple_price = 2\n",
        "\n",
        "# Berikan 5 ke variable count \n",
        "count = 5\n",
        "\n",
        "# Berikan hasil dari apple_price * count ke variable total_price \n",
        "total_price = apple_price * count\n",
        "print(total_price)\n",
        "\n",
        "# Dengan menggunakan variable count, cetak 'Anda akan membeli .. apel'\n",
        "print(\"Anda akan membeli \" + str(count)+\" apel\")\n",
        "\n",
        "# Dengan menggunakan variable total_price, cetak 'Harga total adalah .. dolar'\n",
        "print(\"Harga total adalah\", total_price ,\"dolar\")"
      ]
    },
    {
      "cell_type": "code",
      "execution_count": null,
      "metadata": {
        "colab": {
          "base_uri": "https://localhost:8080/"
        },
        "id": "SzGRvFT1fwwU",
        "outputId": "e2071714-6f4e-44dd-b13d-711e822a580e"
      },
      "outputs": [
        {
          "output_type": "stream",
          "name": "stdout",
          "text": [
            "Saya suka makan apel\n",
            "Saya suka makan pisang\n",
            "Saya suka makan jeruk\n",
            "Saya suka angka 2\n",
            "Saya suka angka 3\n",
            "Saya suka angka 4\n",
            "Saya suka angka 5\n"
          ]
        }
      ],
      "source": [
        "fruits = ('apel', 'pisang', 'jeruk',2,3,4,5)\n",
        "\n",
        "for fruit in fruits:\n",
        "  if(isinstance(fruit, int)): #isinstance utk memeriksa apakah suatu objek adalah instance dari suatu kelas\n",
        "    print(\"Saya suka angka\", fruit) #isinstance untuk memisahkan string dgn int\n",
        "  else:\n",
        "    print(\"Saya suka makan\", fruit)"
      ]
    },
    {
      "cell_type": "code",
      "execution_count": null,
      "metadata": {
        "colab": {
          "base_uri": "https://localhost:8080/"
        },
        "id": "ccIG9S_bf9yD",
        "outputId": "1adfa958-4d78-4a24-c473-5f4a73ca5220"
      },
      "outputs": [
        {
          "output_type": "stream",
          "name": "stdout",
          "text": [
            "apel adalah apple dalam bahasa Inggris\n",
            "jeruk adalah orange dalam bahasa Inggris\n",
            "anggur adalah grape dalam bahasa Inggris\n",
            "Satu adalah 1 dalam notasi angka\n",
            "Dua adalah 2 dalam notasi angka\n",
            "Tiga adalah 3 dalam notasi angka\n"
          ]
        }
      ],
      "source": [
        "fruits = {'apel': 'apple', \n",
        "          'jeruk': 'orange', \n",
        "          'anggur': 'grape',\n",
        "          \"Satu\":1,\n",
        "          \"Dua\":2,\n",
        "          \"Tiga\":3}\n",
        "\n",
        "# Dengan loop for, cetak '___ adalah ___ dalam bahasa Inggris'\n",
        "for f_key in fruits:\n",
        "  if(isinstance(fruits[f_key], str)):   #cara bacanya adalah apakah indeks atau key dlm dictionary fruits itu string\n",
        "    print(f_key+\" adalah \" + fruits[f_key]+ \" dalam bahasa Inggris\")\n",
        "  else:\n",
        "    print(f_key, \"adalah\", fruits[f_key], \"dalam notasi angka\")"
      ]
    },
    {
      "cell_type": "code",
      "execution_count": null,
      "metadata": {
        "id": "Z6oOupNdgA9q"
      },
      "outputs": [],
      "source": [
        "items = {\"nama_barang\":\"apel\",\n",
        "         \"deskripsi\":[{\"harga\":20,\n",
        "                      \"foto\":\"assets/images/apple.jpg\",\n",
        "                      \"qty\":100}], \n",
        "         \"nama_barang\":\"jeruk\",\n",
        "         \"deskripsi\":[{\"harga\":25,\n",
        "                      \"foto\":\"assets/images/jeruk.jpg\",\n",
        "                      \"qty\":150}] }"
      ]
    },
    {
      "cell_type": "code",
      "execution_count": null,
      "metadata": {
        "colab": {
          "base_uri": "https://localhost:8080/"
        },
        "id": "8zHxqKZaukOL",
        "outputId": "8063e5ca-f8b5-4a0e-d7b4-865be3716cad"
      },
      "outputs": [
        {
          "output_type": "stream",
          "name": "stdout",
          "text": [
            "--------------------------------------------------\n",
            "Anda memiliki 20 dolar di dompet Anda\n",
            "Harga setiap apel 2 dolar\n",
            "Mau berapa apel?:10\n",
            "Anda akan membeli 10 apel\n",
            "Harga total adalah 20 dolar\n",
            "Anda telah membeli 10 apel\n",
            "--------------------------------------------------\n",
            "Anda memiliki 0 dolar di dompet Anda\n",
            "Harga setiap pisang 4 dolar\n",
            "Mau berapa pisang?:6\n",
            "Anda akan membeli 6 pisang\n",
            "Harga total adalah 24 dolar\n",
            "Uang Anda tidak mencukupi\n",
            "Anda tidak dapat membeli pisang sebanyak itu\n",
            "--------------------------------------------------\n",
            "Anda memiliki 0 dolar di dompet Anda\n",
            "Harga setiap jeruk 6 dolar\n",
            "Mau berapa jeruk?:2\n",
            "Anda akan membeli 2 jeruk\n",
            "Harga total adalah 12 dolar\n",
            "Uang Anda tidak mencukupi\n",
            "Anda tidak dapat membeli jeruk sebanyak itu\n"
          ]
        }
      ],
      "source": [
        "# Berikan 20 ke variable money\n",
        "money = 20\n",
        "\n",
        "items = {'apel': 2, 'pisang': 4, 'jeruk': 6}\n",
        "for item_name in items:\n",
        "    print('--------------------------------------------------')\n",
        "    # Menggunakan variable money, cetak 'Anda memiliki ___ dolar di dompet Anda'\n",
        "    print(\"Anda memiliki \" + str(money) + \" dolar di dompet Anda\")\n",
        "    \n",
        "    print('Harga setiap ' + item_name + ' ' + str(items[item_name]) + ' dolar')\n",
        "    \n",
        "    input_count = input('Mau berapa ' + item_name + '?:')\n",
        "    print('Anda akan membeli ' + input_count + ' ' + item_name)\n",
        "    \n",
        "    count = int(input_count)\n",
        "    total_price = items[item_name] * count\n",
        "    print('Harga total adalah ' + str(total_price) + ' dolar')\n",
        "    \n",
        "    # Tambahkan control flow berdasarkan perbandingan dari money dan total_price\n",
        "    if(money >= total_price):\n",
        "      money = money - total_price\n",
        "      print(\"Anda telah membeli \"+ input_count + \" \" + item_name)\n",
        "      \n",
        "    else:\n",
        "      print(\"Uang Anda tidak mencukupi\")\n",
        "      print(\"Anda tidak dapat membeli \" + item_name +\" sebanyak itu\")\n",
        "      "
      ]
    }
  ],
  "metadata": {
    "colab": {
      "provenance": [],
      "toc_visible": true
    },
    "kernelspec": {
      "display_name": "Python 3",
      "name": "python3"
    },
    "language_info": {
      "name": "python"
    }
  },
  "nbformat": 4,
  "nbformat_minor": 0
}